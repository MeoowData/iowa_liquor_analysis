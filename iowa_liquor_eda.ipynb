{
 "cells": [
  {
   "cell_type": "markdown",
   "id": "0bada0fe-c2aa-4bd3-897f-e7bb6055eb68",
   "metadata": {},
   "source": [
    "# **Iowa Liquor - Análise Exploratória de Dados**"
   ]
  },
  {
   "cell_type": "markdown",
   "id": "2bed2b6b-2c8b-4392-8849-6e5176b01ecc",
   "metadata": {},
   "source": [
    "Em 1920 foi instituida a lei seca nos Estados Unidos, onde era proibida a fabricação, importação, venda ou transporte de bebidas alcoólicas dentro do país, ou de países sujeitos a sua jurisdição. O objetivo primordial dessa lei era o combate à pobreza e violência. Passados 13 anos a lei foi revogada, pois não gerou os resultados esperados.\n",
    "\n",
    "Esse evento ficou marcado como um símbolo da relação dos Estados Unidos com o consumo de álcool. Segundo o CDC (Center for Disease Control and Prevention), [um em cada seis adultos faz consumo execissivo de álcool no país](https://www.cdc.gov/alcohol/fact-sheets/binge-drinking.htm). Esse dado demonstra um grave problema de saúde que afeta, principalmente, a população de jovens adultos (18 à 34 anos). Além disso, demonstra-se, como um mercado lucrativo e que necessita de atenção por parte de organizações, sobre o comportamento de consumo e quais ações devem ser tomadas contra o desenvolvimento da dependência em álcool."
   ]
  },
  {
   "cell_type": "markdown",
   "id": "0f4ee520-92b5-4c63-9de7-f0a8126627c3",
   "metadata": {
    "tags": []
   },
   "source": [
    "## **Dados Utilizados**\n",
    "\n",
    "O dataset que será utilizado na análise trata sobre as vendas de destilados do tipo liquor de classe \"E\" no estado de Iowa, fornecido pela plataforma de open data do estado de Iowa, e pode ser obtido [clicando aqui](https://data.iowa.gov/Sales-Distribution/Iowa-Liquor-Sales/m3tr-qhgy). O período de tempo utilizado na análise está entre janeiro de 2012 e março de 2023.\n",
    "\n",
    "O objetivo principal da análise será realizar um estudo sobre o consumo de destilados no estado de Iowa, no decorrer dos anos. Para isso serão utilizadas perguntas norteadoras, que ajudarão a compreender melhor o consumo da bebida no decorrer dos anos."
   ]
  },
  {
   "cell_type": "markdown",
   "id": "6f545978-6b37-4643-9a1c-827e5f570270",
   "metadata": {},
   "source": [
    "### **Atribuição**"
   ]
  },
  {
   "cell_type": "markdown",
   "id": "f221bb26-cd10-4c1f-9068-2814ecd71e86",
   "metadata": {},
   "source": [
    "**[Iowa Liquor Sales](https://data.iowa.gov/Sales-Distribution/Iowa-Liquor-Sales/m3tr-qhgy) by Iowa Department of Commerce, Alcoholic Beverages Division. The data is dedicated to the public domain under CC0.**"
   ]
  },
  {
   "cell_type": "markdown",
   "id": "41b0be72-ac9c-4070-9122-976d1ceb807d",
   "metadata": {
    "tags": []
   },
   "source": [
    "## **Perguntas Norteadoras**\n",
    "\n",
    "* Qual a quantidade total de lojas?\n",
    "* Qual cidade possui mais lojas de bebidas licenciadas, que realizaram compras?\n",
    "* Quais são os 10 produtos vendidos mais caros?\n",
    "* Qual o fornecedor que mais vendeu em todo o período? E quais foram os fornecedores que mais venderam nos últimos 10 meses por mês?\n",
    "* Qual a categoria mais vendida por volume total no período? E por quantidade de vendas realizadas?\n",
    "* Qual o produto mais vendido por condado?\n",
    "* Qual a loja que mais transacionou em volume monetário? E por quantidade de vendas? E por litros?\n",
    "* Qual o produto que mais gerou receita para ABD no período? E qual o produto que mais possui margem de lucro?\n",
    "* Parece haver sazionalidade na venda de bebidas? Algum mês do ano, no decorrer dos anos, possui mais destaque no volume vendido?\n",
    "* Qual é o total vendido por ano?\n",
    "* Qual foi o lucro por ano?\n",
    "* Qual foi a evolução do comportamento de consumo?"
   ]
  },
  {
   "cell_type": "markdown",
   "id": "986c0a95-261f-43a3-be88-8ab1be048ef7",
   "metadata": {
    "tags": []
   },
   "source": [
    "## **Análise Exploratória**"
   ]
  },
  {
   "cell_type": "markdown",
   "id": "d5c72e8c-7344-4ec0-8869-cf7b722646d6",
   "metadata": {},
   "source": [
    "### **Carregando Pacotes e Funções**"
   ]
  },
  {
   "cell_type": "code",
   "execution_count": 1,
   "id": "615c7b86-e097-4c21-a7d0-f551a7eddebf",
   "metadata": {},
   "outputs": [],
   "source": [
    "import pandas as pd\n",
    "import numpy as np\n",
    "import matplotlib.pyplot as plt\n",
    "import matplotlib.ticker as mtick\n",
    "from matplotlib.pyplot import figure\n",
    "import matplotlib\n",
    "import datetime\n",
    "import wget\n",
    "import os\n",
    "\n",
    "pd.set_option('display.max_columns', None)\n",
    "pd.options.display.float_format = '{:.2f}'.format"
   ]
  },
  {
   "cell_type": "code",
   "execution_count": 2,
   "id": "79f069e0-7830-419b-bc45-dbefde758413",
   "metadata": {},
   "outputs": [
    {
     "name": "stdout",
     "output_type": "stream",
     "text": [
      "Versão Python utilizada: 3.11.3\n"
     ]
    }
   ],
   "source": [
    "from platform import python_version\n",
    "print(\"Versão Python utilizada:\", python_version())"
   ]
  },
  {
   "cell_type": "code",
   "execution_count": 3,
   "id": "511271ab-11c3-468f-8a83-36b3790ab9cc",
   "metadata": {},
   "outputs": [],
   "source": [
    "import watermark.watermark as watermark\n",
    "%load_ext watermark"
   ]
  },
  {
   "cell_type": "code",
   "execution_count": 4,
   "id": "7b1fa5a5-1e2d-4ef8-90b0-c738dec93495",
   "metadata": {},
   "outputs": [
    {
     "name": "stdout",
     "output_type": "stream",
     "text": [
      "matplotlib: 3.7.1\n",
      "pandas    : 2.0.3\n",
      "numpy     : 1.24.4\n",
      "wget      : 3.2\n",
      "\n"
     ]
    }
   ],
   "source": [
    "%watermark --iversions"
   ]
  },
  {
   "cell_type": "markdown",
   "id": "8da47ca4-1438-466a-abab-ed436c015dab",
   "metadata": {},
   "source": [
    "### **Carregando o Dataset**\n",
    "\n",
    "O arquivo csv em questão possui cerca de 6,4 GB. Será feito um trabalho de pré-processamento, alterando o formato dos dados e realizando seleção de colunas, tendo em vista que o espaço ocupado em memória ao carregar, sem alterações, é de cerca de 23 GB. Isso permitirá maior eficácia na realização de operações no decorrer da análise. É esperado que o dataset ocupe cerca de 6 GB com as alterações realizadas no formato do dados e seleção de colunas.\n",
    "\n",
    "Toda a selação de variáveis será feita com base no dicionário de dados, disponível na fonte de dados. Colunas serão excluidas por não possuirem serventia para a análise, excesso de valores nulos, ou por redundância de variáveis no dataset."
   ]
  },
  {
   "cell_type": "code",
   "execution_count": 5,
   "id": "5b4480d9-7ee2-43a9-b92f-aa93df1a7bfe",
   "metadata": {},
   "outputs": [],
   "source": [
    "if os.path.exists('./Iowa_Liquor_Sales.csv'):\n",
    "    pass\n",
    "else:\n",
    "    wget.download('https://data.iowa.gov/api/views/m3tr-qhgy/rows.csv?accessType=DOWNLOAD&bom=true&format=true')"
   ]
  },
  {
   "cell_type": "code",
   "execution_count": 6,
   "id": "a69e10ca-d926-4181-88d7-efeed17765b3",
   "metadata": {},
   "outputs": [],
   "source": [
    "dados = pd.read_csv('Iowa_Liquor_Sales.csv', \n",
    "                    engine = 'pyarrow',\n",
    "                    usecols = ['Date', 'Store Number', 'Store Name', 'City', 'County', 'Category Name',\n",
    "                               'Vendor Number', 'Vendor Name', 'Item Number', 'Item Description', 'Bottle Volume (ml)',\n",
    "                               'State Bottle Cost', 'State Bottle Retail', 'Bottles Sold', 'Sale (Dollars)',\n",
    "                               'Volume Sold (Liters)'],\n",
    "                    dtype = {'Store Number' : 'category', 'Vendor Number' : 'float16', 'Category Name' : 'category',\n",
    "                             'Bottle Volume (ml)' : 'int32', 'State Bottle Cost' : 'float16', 'State Bottle Retail' : 'float16',\n",
    "                             'Bottles Sold' : 'int16', 'Sale (Dollars)' : 'float32', 'Volume Sold (Liters)' : 'float16',\n",
    "                             'City' : 'category', 'County' : 'category', 'Vendor Name' : 'category', 'Item Description' : 'category'})"
   ]
  },
  {
   "cell_type": "code",
   "execution_count": 7,
   "id": "cf94e65d-962c-4522-9e83-c8d05b774874",
   "metadata": {},
   "outputs": [
    {
     "data": {
      "text/html": [
       "<div>\n",
       "<style scoped>\n",
       "    .dataframe tbody tr th:only-of-type {\n",
       "        vertical-align: middle;\n",
       "    }\n",
       "\n",
       "    .dataframe tbody tr th {\n",
       "        vertical-align: top;\n",
       "    }\n",
       "\n",
       "    .dataframe thead th {\n",
       "        text-align: right;\n",
       "    }\n",
       "</style>\n",
       "<table border=\"1\" class=\"dataframe\">\n",
       "  <thead>\n",
       "    <tr style=\"text-align: right;\">\n",
       "      <th></th>\n",
       "      <th>Date</th>\n",
       "      <th>Store Number</th>\n",
       "      <th>Store Name</th>\n",
       "      <th>City</th>\n",
       "      <th>County</th>\n",
       "      <th>Category Name</th>\n",
       "      <th>Vendor Number</th>\n",
       "      <th>Vendor Name</th>\n",
       "      <th>Item Number</th>\n",
       "      <th>Item Description</th>\n",
       "      <th>Bottle Volume (ml)</th>\n",
       "      <th>State Bottle Cost</th>\n",
       "      <th>State Bottle Retail</th>\n",
       "      <th>Bottles Sold</th>\n",
       "      <th>Sale (Dollars)</th>\n",
       "      <th>Volume Sold (Liters)</th>\n",
       "    </tr>\n",
       "  </thead>\n",
       "  <tbody>\n",
       "    <tr>\n",
       "      <th>0</th>\n",
       "      <td>02/16/2016</td>\n",
       "      <td>4167</td>\n",
       "      <td>IOWA STREET MARKET, INC.</td>\n",
       "      <td>DUBUQUE</td>\n",
       "      <td>DUBUQUE</td>\n",
       "      <td>AMERICAN GRAPE BRANDIES</td>\n",
       "      <td>85.00</td>\n",
       "      <td>BROWN-FORMAN CORPORATION</td>\n",
       "      <td>52806</td>\n",
       "      <td>KORBEL BRANDY</td>\n",
       "      <td>750</td>\n",
       "      <td>6.66</td>\n",
       "      <td>9.99</td>\n",
       "      <td>12</td>\n",
       "      <td>119.88</td>\n",
       "      <td>9.00</td>\n",
       "    </tr>\n",
       "    <tr>\n",
       "      <th>1</th>\n",
       "      <td>02/16/2016</td>\n",
       "      <td>2656</td>\n",
       "      <td>HY-VEE FOOD STORE / CORNING</td>\n",
       "      <td>CORNING</td>\n",
       "      <td>CLAYTON</td>\n",
       "      <td>WHISKEY LIQUEUR</td>\n",
       "      <td>85.00</td>\n",
       "      <td>BROWN-FORMAN CORPORATION</td>\n",
       "      <td>86886</td>\n",
       "      <td>SOUTHERN COMFORT</td>\n",
       "      <td>750</td>\n",
       "      <td>10.33</td>\n",
       "      <td>15.50</td>\n",
       "      <td>12</td>\n",
       "      <td>186.00</td>\n",
       "      <td>9.00</td>\n",
       "    </tr>\n",
       "    <tr>\n",
       "      <th>2</th>\n",
       "      <td>02/22/2016</td>\n",
       "      <td>4418</td>\n",
       "      <td>KUM &amp; GO #46 / WALNUT</td>\n",
       "      <td>WALNUT</td>\n",
       "      <td>POTTAWATTAMIE</td>\n",
       "      <td>VODKA 80 PROOF</td>\n",
       "      <td>434.00</td>\n",
       "      <td>LUXCO-ST LOUIS</td>\n",
       "      <td>36308</td>\n",
       "      <td>HAWKEYE VODKA</td>\n",
       "      <td>1750</td>\n",
       "      <td>7.17</td>\n",
       "      <td>10.76</td>\n",
       "      <td>12</td>\n",
       "      <td>129.12</td>\n",
       "      <td>21.00</td>\n",
       "    </tr>\n",
       "    <tr>\n",
       "      <th>3</th>\n",
       "      <td>02/10/2016</td>\n",
       "      <td>2623</td>\n",
       "      <td>HY-VEE FOOD STORE #4 / SIOUX CITY</td>\n",
       "      <td>SIOUX CITY</td>\n",
       "      <td>WOODBURY</td>\n",
       "      <td>VODKA FLAVORED</td>\n",
       "      <td>380.00</td>\n",
       "      <td>PHILLIPS BEVERAGE COMPANY</td>\n",
       "      <td>41857</td>\n",
       "      <td>UV CHERRY RED VODKA MINI</td>\n",
       "      <td>500</td>\n",
       "      <td>4.89</td>\n",
       "      <td>7.34</td>\n",
       "      <td>1</td>\n",
       "      <td>7.34</td>\n",
       "      <td>0.50</td>\n",
       "    </tr>\n",
       "    <tr>\n",
       "      <th>4</th>\n",
       "      <td>02/22/2016</td>\n",
       "      <td>2627</td>\n",
       "      <td>HY-VEE WINE AND SPIRITS #1</td>\n",
       "      <td>DES MOINES</td>\n",
       "      <td>POLK</td>\n",
       "      <td>IMPORTED GRAPE BRANDIES</td>\n",
       "      <td>389.00</td>\n",
       "      <td>REMY COINTREAU USA         .</td>\n",
       "      <td>66295</td>\n",
       "      <td>REMY MARTIN V</td>\n",
       "      <td>200</td>\n",
       "      <td>5.42</td>\n",
       "      <td>8.13</td>\n",
       "      <td>4</td>\n",
       "      <td>32.52</td>\n",
       "      <td>0.80</td>\n",
       "    </tr>\n",
       "  </tbody>\n",
       "</table>\n",
       "</div>"
      ],
      "text/plain": [
       "         Date Store Number                         Store Name        City  \\\n",
       "0  02/16/2016         4167           IOWA STREET MARKET, INC.     DUBUQUE   \n",
       "1  02/16/2016         2656        HY-VEE FOOD STORE / CORNING     CORNING   \n",
       "2  02/22/2016         4418              KUM & GO #46 / WALNUT      WALNUT   \n",
       "3  02/10/2016         2623  HY-VEE FOOD STORE #4 / SIOUX CITY  SIOUX CITY   \n",
       "4  02/22/2016         2627         HY-VEE WINE AND SPIRITS #1  DES MOINES   \n",
       "\n",
       "          County            Category Name  Vendor Number  \\\n",
       "0        DUBUQUE  AMERICAN GRAPE BRANDIES          85.00   \n",
       "1        CLAYTON          WHISKEY LIQUEUR          85.00   \n",
       "2  POTTAWATTAMIE           VODKA 80 PROOF         434.00   \n",
       "3       WOODBURY           VODKA FLAVORED         380.00   \n",
       "4           POLK  IMPORTED GRAPE BRANDIES         389.00   \n",
       "\n",
       "                    Vendor Name Item Number          Item Description  \\\n",
       "0      BROWN-FORMAN CORPORATION       52806             KORBEL BRANDY   \n",
       "1      BROWN-FORMAN CORPORATION       86886          SOUTHERN COMFORT   \n",
       "2                LUXCO-ST LOUIS       36308             HAWKEYE VODKA   \n",
       "3     PHILLIPS BEVERAGE COMPANY       41857  UV CHERRY RED VODKA MINI   \n",
       "4  REMY COINTREAU USA         .       66295             REMY MARTIN V   \n",
       "\n",
       "   Bottle Volume (ml)  State Bottle Cost  State Bottle Retail  Bottles Sold  \\\n",
       "0                 750               6.66                 9.99            12   \n",
       "1                 750              10.33                15.50            12   \n",
       "2                1750               7.17                10.76            12   \n",
       "3                 500               4.89                 7.34             1   \n",
       "4                 200               5.42                 8.13             4   \n",
       "\n",
       "   Sale (Dollars)  Volume Sold (Liters)  \n",
       "0          119.88                  9.00  \n",
       "1          186.00                  9.00  \n",
       "2          129.12                 21.00  \n",
       "3            7.34                  0.50  \n",
       "4           32.52                  0.80  "
      ]
     },
     "execution_count": 7,
     "metadata": {},
     "output_type": "execute_result"
    }
   ],
   "source": [
    "dados.head()"
   ]
  },
  {
   "cell_type": "code",
   "execution_count": 8,
   "id": "0e1cf677-db61-4d70-82a2-017a8c56884e",
   "metadata": {},
   "outputs": [
    {
     "data": {
      "text/plain": [
       "(26359555, 16)"
      ]
     },
     "execution_count": 8,
     "metadata": {},
     "output_type": "execute_result"
    }
   ],
   "source": [
    "dados.shape"
   ]
  },
  {
   "cell_type": "code",
   "execution_count": 9,
   "id": "f71445b3-be50-4b4c-937c-c8f069791a91",
   "metadata": {},
   "outputs": [
    {
     "data": {
      "text/plain": [
       "Date                      object\n",
       "Store Number            category\n",
       "Store Name                object\n",
       "City                    category\n",
       "County                  category\n",
       "Category Name           category\n",
       "Vendor Number            float16\n",
       "Vendor Name             category\n",
       "Item Number               object\n",
       "Item Description        category\n",
       "Bottle Volume (ml)         int32\n",
       "State Bottle Cost        float16\n",
       "State Bottle Retail      float16\n",
       "Bottles Sold               int16\n",
       "Sale (Dollars)           float32\n",
       "Volume Sold (Liters)     float16\n",
       "dtype: object"
      ]
     },
     "execution_count": 9,
     "metadata": {},
     "output_type": "execute_result"
    }
   ],
   "source": [
    "dados.dtypes"
   ]
  },
  {
   "cell_type": "markdown",
   "id": "af4ad58d-0454-43cb-81e2-0c8113c7d4b3",
   "metadata": {
    "tags": []
   },
   "source": [
    "## **Preparação dos Dados**"
   ]
  },
  {
   "cell_type": "markdown",
   "id": "81f18f30-83c6-4bd4-bc99-5c2d6b4f969e",
   "metadata": {},
   "source": [
    "A maior parte das colunas possuem espaços no nome. Isso pode representar um problema, dependendo da sintaxe e operação utilizada. Portanto, será necessário ajustar esse eventual problema."
   ]
  },
  {
   "cell_type": "code",
   "execution_count": 10,
   "id": "cb547ba7-9508-4ed3-9b6e-98d0c5491e53",
   "metadata": {},
   "outputs": [],
   "source": [
    "dataset_inicial = dados.copy()"
   ]
  },
  {
   "cell_type": "code",
   "execution_count": 11,
   "id": "b07b27f4-25cd-454c-88eb-8e9fe4fff832",
   "metadata": {},
   "outputs": [],
   "source": [
    "dados.columns = dados.columns.str.replace(' ', '')"
   ]
  },
  {
   "cell_type": "code",
   "execution_count": 12,
   "id": "be42cdd7-62e5-44dd-8835-2af12c4fc2fd",
   "metadata": {},
   "outputs": [
    {
     "data": {
      "text/plain": [
       "['Date',\n",
       " 'StoreNumber',\n",
       " 'StoreName',\n",
       " 'City',\n",
       " 'County',\n",
       " 'CategoryName',\n",
       " 'VendorNumber',\n",
       " 'VendorName',\n",
       " 'ItemNumber',\n",
       " 'ItemDescription',\n",
       " 'BottleVolume(ml)',\n",
       " 'StateBottleCost',\n",
       " 'StateBottleRetail',\n",
       " 'BottlesSold',\n",
       " 'Sale(Dollars)',\n",
       " 'VolumeSold(Liters)']"
      ]
     },
     "execution_count": 12,
     "metadata": {},
     "output_type": "execute_result"
    }
   ],
   "source": [
    "list(dados.columns)"
   ]
  },
  {
   "cell_type": "markdown",
   "id": "18216076-1fdf-489f-be5e-e29edd970b7a",
   "metadata": {},
   "source": [
    "A coluna `Date` está no formato object, é preciso realizar a conversão, pois será necessária a utilização da data para responder algumas perguntas."
   ]
  },
  {
   "cell_type": "code",
   "execution_count": 13,
   "id": "0c7f4890-1890-47b5-bb19-9483dfa4067e",
   "metadata": {},
   "outputs": [],
   "source": [
    "dados['Date'] = pd.to_datetime(dados['Date'], format = '%m/%d/%Y', dayfirst = False)"
   ]
  },
  {
   "cell_type": "code",
   "execution_count": 14,
   "id": "433f7e10-01dc-4d53-835e-7e4c43ea3bf2",
   "metadata": {},
   "outputs": [
    {
     "data": {
      "text/plain": [
       "Date                  datetime64[ns]\n",
       "StoreNumber                 category\n",
       "StoreName                     object\n",
       "City                        category\n",
       "County                      category\n",
       "CategoryName                category\n",
       "VendorNumber                 float16\n",
       "VendorName                  category\n",
       "ItemNumber                    object\n",
       "ItemDescription             category\n",
       "BottleVolume(ml)               int32\n",
       "StateBottleCost              float16\n",
       "StateBottleRetail            float16\n",
       "BottlesSold                    int16\n",
       "Sale(Dollars)                float32\n",
       "VolumeSold(Liters)           float16\n",
       "dtype: object"
      ]
     },
     "execution_count": 14,
     "metadata": {},
     "output_type": "execute_result"
    }
   ],
   "source": [
    "dados.dtypes"
   ]
  },
  {
   "cell_type": "code",
   "execution_count": 15,
   "id": "92474026-807b-411e-9251-737bc7af8688",
   "metadata": {},
   "outputs": [],
   "source": [
    "# Realizando slice nos dados, para abranger apenas o período de tempo definido inicialmente\n",
    "# Isso evita resultados diferentes para a análise, caso o script seja executado em uma data diferente\n",
    "dados = dados.query(\"Date <= '2023-04-30'\")"
   ]
  },
  {
   "cell_type": "code",
   "execution_count": 16,
   "id": "a86a52ce-0302-4803-a382-a89eb96c2f8f",
   "metadata": {},
   "outputs": [
    {
     "data": {
      "text/plain": [
       "Date                   0\n",
       "StoreNumber            0\n",
       "StoreName              0\n",
       "City                   0\n",
       "County                 0\n",
       "CategoryName           0\n",
       "VendorNumber           9\n",
       "VendorName             0\n",
       "ItemNumber             0\n",
       "ItemDescription        0\n",
       "BottleVolume(ml)       0\n",
       "StateBottleCost       10\n",
       "StateBottleRetail     10\n",
       "BottlesSold            0\n",
       "Sale(Dollars)         10\n",
       "VolumeSold(Liters)     0\n",
       "dtype: int64"
      ]
     },
     "execution_count": 16,
     "metadata": {},
     "output_type": "execute_result"
    }
   ],
   "source": [
    "dados.isna().sum()"
   ]
  },
  {
   "cell_type": "markdown",
   "id": "b16a2a9c-8fc0-4ed5-a1fa-dda7b39e95c5",
   "metadata": {},
   "source": [
    "As colunas `StateBottleCost` e `StateBottleRetail` possuem poucos valores faltantes, seria possível tentar utilizar uma abordagem de analisar demais colunas que possuem o mesmo produto vendedio, em uma data próxima, e realizar o cálculo. No entanto, por quase não possuirem impacto para análise, a exclusão das linhas pode ser dada como a abordagem mais sensata."
   ]
  },
  {
   "cell_type": "code",
   "execution_count": 17,
   "id": "0373f42a-59f1-4193-af47-ec6276e0611b",
   "metadata": {},
   "outputs": [],
   "source": [
    "dados = dados[(dados['StateBottleCost'].notna()) & (dados['StateBottleRetail'].notna())]"
   ]
  },
  {
   "cell_type": "code",
   "execution_count": 18,
   "id": "5fa9496d-5676-45de-9c60-3ff9db5bae7d",
   "metadata": {},
   "outputs": [
    {
     "data": {
      "text/plain": [
       "Date                  0\n",
       "StoreNumber           0\n",
       "StoreName             0\n",
       "City                  0\n",
       "County                0\n",
       "CategoryName          0\n",
       "VendorNumber          9\n",
       "VendorName            0\n",
       "ItemNumber            0\n",
       "ItemDescription       0\n",
       "BottleVolume(ml)      0\n",
       "StateBottleCost       0\n",
       "StateBottleRetail     0\n",
       "BottlesSold           0\n",
       "Sale(Dollars)         0\n",
       "VolumeSold(Liters)    0\n",
       "dtype: int64"
      ]
     },
     "execution_count": 18,
     "metadata": {},
     "output_type": "execute_result"
    }
   ],
   "source": [
    "dados.isna().sum()"
   ]
  },
  {
   "cell_type": "code",
   "execution_count": 19,
   "id": "63fe4ae9-52ad-433f-9dea-98574ced59fc",
   "metadata": {},
   "outputs": [
    {
     "data": {
      "text/plain": [
       "(26359545, 16)"
      ]
     },
     "execution_count": 19,
     "metadata": {},
     "output_type": "execute_result"
    }
   ],
   "source": [
    "dados.shape"
   ]
  },
  {
   "cell_type": "markdown",
   "id": "a8ba6c2c-592b-4125-b11e-4de39927c853",
   "metadata": {},
   "source": [
    "Algumas linhas apresentam valores negativos para o volume vendido, como a fonte informa que o dataset se trata de compra e venda, e não fornece qualquer informação referente a devoluções, será assumido que os dados foram erroneamente inseridos necessitando de transformação. A medida mais correta a ser tomada em um cenário real e de mercado de trabalho, seria entrar em contato com a área que gerou os dados, ou o responsável pelas vendas, para que haja certeza sobre tal situação."
   ]
  },
  {
   "cell_type": "code",
   "execution_count": 20,
   "id": "f6422e7d-e6e6-4965-8098-4b851bd6b7f5",
   "metadata": {},
   "outputs": [
    {
     "data": {
      "text/html": [
       "<div>\n",
       "<style scoped>\n",
       "    .dataframe tbody tr th:only-of-type {\n",
       "        vertical-align: middle;\n",
       "    }\n",
       "\n",
       "    .dataframe tbody tr th {\n",
       "        vertical-align: top;\n",
       "    }\n",
       "\n",
       "    .dataframe thead th {\n",
       "        text-align: right;\n",
       "    }\n",
       "</style>\n",
       "<table border=\"1\" class=\"dataframe\">\n",
       "  <thead>\n",
       "    <tr style=\"text-align: right;\">\n",
       "      <th></th>\n",
       "      <th>Date</th>\n",
       "      <th>StoreNumber</th>\n",
       "      <th>StoreName</th>\n",
       "      <th>City</th>\n",
       "      <th>County</th>\n",
       "      <th>CategoryName</th>\n",
       "      <th>VendorNumber</th>\n",
       "      <th>VendorName</th>\n",
       "      <th>ItemNumber</th>\n",
       "      <th>ItemDescription</th>\n",
       "      <th>BottleVolume(ml)</th>\n",
       "      <th>StateBottleCost</th>\n",
       "      <th>StateBottleRetail</th>\n",
       "      <th>BottlesSold</th>\n",
       "      <th>Sale(Dollars)</th>\n",
       "      <th>VolumeSold(Liters)</th>\n",
       "    </tr>\n",
       "  </thead>\n",
       "  <tbody>\n",
       "    <tr>\n",
       "      <th>1571184</th>\n",
       "      <td>2023-04-06</td>\n",
       "      <td>3524</td>\n",
       "      <td>SAM'S CLUB 6568 / AMES</td>\n",
       "      <td>AMES</td>\n",
       "      <td>STORY</td>\n",
       "      <td>CREAM LIQUEURS</td>\n",
       "      <td>300.00</td>\n",
       "      <td>MCCORMICK DISTILLING CO.</td>\n",
       "      <td>65199</td>\n",
       "      <td>TEQUILA ROSE LIQUEUR</td>\n",
       "      <td>1000</td>\n",
       "      <td>13.50</td>\n",
       "      <td>20.25</td>\n",
       "      <td>-1</td>\n",
       "      <td>-20.25</td>\n",
       "      <td>-1.00</td>\n",
       "    </tr>\n",
       "    <tr>\n",
       "      <th>1571322</th>\n",
       "      <td>2023-04-27</td>\n",
       "      <td>2603</td>\n",
       "      <td>HY-VEE WINE AND SPIRITS / BETTENDORF</td>\n",
       "      <td>BETTENDORF</td>\n",
       "      <td>SCOTT</td>\n",
       "      <td>100% AGAVE TEQUILA</td>\n",
       "      <td>65.00</td>\n",
       "      <td>JIM BEAM BRANDS</td>\n",
       "      <td>89846</td>\n",
       "      <td>TRES GENERACIONES ANEJO</td>\n",
       "      <td>750</td>\n",
       "      <td>26.50</td>\n",
       "      <td>39.75</td>\n",
       "      <td>-12</td>\n",
       "      <td>-477.00</td>\n",
       "      <td>-9.00</td>\n",
       "    </tr>\n",
       "    <tr>\n",
       "      <th>1571543</th>\n",
       "      <td>2023-04-24</td>\n",
       "      <td>2605</td>\n",
       "      <td>HY-VEE DRUGSTORE #5 / CEDAR RAPIDS</td>\n",
       "      <td>CEDAR RAPIDS</td>\n",
       "      <td>LINN</td>\n",
       "      <td>AMERICAN DRY GINS</td>\n",
       "      <td>434.00</td>\n",
       "      <td>LUXCO INC</td>\n",
       "      <td>31658</td>\n",
       "      <td>PARAMOUNT GIN</td>\n",
       "      <td>1750</td>\n",
       "      <td>7.75</td>\n",
       "      <td>11.63</td>\n",
       "      <td>-6</td>\n",
       "      <td>-69.78</td>\n",
       "      <td>-10.50</td>\n",
       "    </tr>\n",
       "    <tr>\n",
       "      <th>1571550</th>\n",
       "      <td>2023-04-03</td>\n",
       "      <td>3420</td>\n",
       "      <td>SAM'S CLUB 6344 / WINDSOR HEIGHTS</td>\n",
       "      <td>WINDSOR HEIGHTS</td>\n",
       "      <td>POLK</td>\n",
       "      <td>AMERICAN SCHNAPPS</td>\n",
       "      <td>65.00</td>\n",
       "      <td>JIM BEAM BRANDS</td>\n",
       "      <td>82847</td>\n",
       "      <td>DEKUYPER LUSCIOUS PEACHTREE</td>\n",
       "      <td>1000</td>\n",
       "      <td>7.87</td>\n",
       "      <td>11.81</td>\n",
       "      <td>-12</td>\n",
       "      <td>-141.72</td>\n",
       "      <td>-12.00</td>\n",
       "    </tr>\n",
       "    <tr>\n",
       "      <th>1571601</th>\n",
       "      <td>2023-04-10</td>\n",
       "      <td>2633</td>\n",
       "      <td>HY-VEE #3 / BDI / DES MOINES</td>\n",
       "      <td>DES MOINES</td>\n",
       "      <td>POLK</td>\n",
       "      <td>AMERICAN SCHNAPPS</td>\n",
       "      <td>65.00</td>\n",
       "      <td>JIM BEAM BRANDS</td>\n",
       "      <td>82627</td>\n",
       "      <td>DEKUYPER CHERRY PUCKER</td>\n",
       "      <td>1000</td>\n",
       "      <td>7.87</td>\n",
       "      <td>11.81</td>\n",
       "      <td>-12</td>\n",
       "      <td>-141.72</td>\n",
       "      <td>-12.00</td>\n",
       "    </tr>\n",
       "  </tbody>\n",
       "</table>\n",
       "</div>"
      ],
      "text/plain": [
       "              Date StoreNumber                             StoreName  \\\n",
       "1571184 2023-04-06        3524                SAM'S CLUB 6568 / AMES   \n",
       "1571322 2023-04-27        2603  HY-VEE WINE AND SPIRITS / BETTENDORF   \n",
       "1571543 2023-04-24        2605    HY-VEE DRUGSTORE #5 / CEDAR RAPIDS   \n",
       "1571550 2023-04-03        3420     SAM'S CLUB 6344 / WINDSOR HEIGHTS   \n",
       "1571601 2023-04-10        2633          HY-VEE #3 / BDI / DES MOINES   \n",
       "\n",
       "                    City County        CategoryName  VendorNumber  \\\n",
       "1571184             AMES  STORY      CREAM LIQUEURS        300.00   \n",
       "1571322       BETTENDORF  SCOTT  100% AGAVE TEQUILA         65.00   \n",
       "1571543     CEDAR RAPIDS   LINN   AMERICAN DRY GINS        434.00   \n",
       "1571550  WINDSOR HEIGHTS   POLK   AMERICAN SCHNAPPS         65.00   \n",
       "1571601       DES MOINES   POLK   AMERICAN SCHNAPPS         65.00   \n",
       "\n",
       "                       VendorName ItemNumber              ItemDescription  \\\n",
       "1571184  MCCORMICK DISTILLING CO.      65199         TEQUILA ROSE LIQUEUR   \n",
       "1571322           JIM BEAM BRANDS      89846      TRES GENERACIONES ANEJO   \n",
       "1571543                 LUXCO INC      31658                PARAMOUNT GIN   \n",
       "1571550           JIM BEAM BRANDS      82847  DEKUYPER LUSCIOUS PEACHTREE   \n",
       "1571601           JIM BEAM BRANDS      82627       DEKUYPER CHERRY PUCKER   \n",
       "\n",
       "         BottleVolume(ml)  StateBottleCost  StateBottleRetail  BottlesSold  \\\n",
       "1571184              1000            13.50              20.25           -1   \n",
       "1571322               750            26.50              39.75          -12   \n",
       "1571543              1750             7.75              11.63           -6   \n",
       "1571550              1000             7.87              11.81          -12   \n",
       "1571601              1000             7.87              11.81          -12   \n",
       "\n",
       "         Sale(Dollars)  VolumeSold(Liters)  \n",
       "1571184         -20.25               -1.00  \n",
       "1571322        -477.00               -9.00  \n",
       "1571543         -69.78              -10.50  \n",
       "1571550        -141.72              -12.00  \n",
       "1571601        -141.72              -12.00  "
      ]
     },
     "execution_count": 20,
     "metadata": {},
     "output_type": "execute_result"
    }
   ],
   "source": [
    "dados[dados['BottlesSold'] < 0].head(5)"
   ]
  },
  {
   "cell_type": "code",
   "execution_count": 21,
   "id": "94a17cbc-c53b-4821-b95c-773586c77e8c",
   "metadata": {},
   "outputs": [],
   "source": [
    "dados[['BottlesSold', 'Sale(Dollars)', 'VolumeSold(Liters)']] = dados[['BottlesSold', 'Sale(Dollars)', 'VolumeSold(Liters)']].abs()"
   ]
  },
  {
   "cell_type": "markdown",
   "id": "53a837dd-09dd-4171-b9d9-9f7245451f41",
   "metadata": {},
   "source": [
    "Uma vez que não foram identificados maiores problemas nos dados, podemos continuar a análise"
   ]
  },
  {
   "cell_type": "markdown",
   "id": "fa06ec3f-607d-41d2-aca1-9c9743bf4aab",
   "metadata": {},
   "source": [
    "## **Análise Exploratória Aprofundada (Respondendo Perguntas Norteadoras)**"
   ]
  },
  {
   "cell_type": "markdown",
   "id": "cf517265-19c5-437b-a60f-ee68a5eb3576",
   "metadata": {
    "tags": []
   },
   "source": [
    "### **Qual a quantidade total de lojas?**"
   ]
  },
  {
   "cell_type": "code",
   "execution_count": 22,
   "id": "5fe07ddd-b394-4836-8ae0-44220e566cb5",
   "metadata": {},
   "outputs": [],
   "source": [
    "dados['StoreNumber'] = dados['StoreNumber'].astype('object')"
   ]
  },
  {
   "cell_type": "code",
   "execution_count": 23,
   "id": "060366a2-8ac0-4a8b-a259-444a343d4470",
   "metadata": {},
   "outputs": [
    {
     "data": {
      "text/plain": [
       "2921"
      ]
     },
     "execution_count": 23,
     "metadata": {},
     "output_type": "execute_result"
    }
   ],
   "source": [
    "dados['StoreNumber'].nunique()"
   ]
  },
  {
   "cell_type": "markdown",
   "id": "3faf466a-df1a-42b4-a035-07b674596885",
   "metadata": {},
   "source": [
    "Há 2921 lojas diferentes credenciadas, que realizaram compras, ao longo tempo."
   ]
  },
  {
   "cell_type": "markdown",
   "id": "5816950a-b125-433a-973f-7ecc8cf95693",
   "metadata": {
    "tags": []
   },
   "source": [
    "### **Qual cidade possui mais lojas de bebidas licenciadas, que realizaram compras?**"
   ]
  },
  {
   "cell_type": "code",
   "execution_count": 24,
   "id": "5df8d8d3-167d-4407-92ff-70406fc67448",
   "metadata": {},
   "outputs": [
    {
     "data": {
      "text/plain": [
       "City\n",
       "DES MOINES      144\n",
       "CEDAR RAPIDS    143\n",
       "                133\n",
       "WATERLOO         95\n",
       "DAVENPORT        89\n",
       "Name: StoreNumber, dtype: int64"
      ]
     },
     "execution_count": 24,
     "metadata": {},
     "output_type": "execute_result"
    }
   ],
   "source": [
    "dados.groupby('City').StoreNumber.nunique().sort_values(ascending = False).head(5)"
   ]
  },
  {
   "cell_type": "markdown",
   "id": "712f2d1e-d320-44a6-84b9-087a3052973b",
   "metadata": {},
   "source": [
    "O resultado pode não ser preciso, pois é possível perceber uma categoria em branco para a coluna Cidade. Este é um problema contornável, ao menos em sua maior parte, mas será necessário realizar a reposição de valores, dependendo da quantidade de dados faltantes."
   ]
  },
  {
   "cell_type": "code",
   "execution_count": 25,
   "id": "b9b6d5a4-9f32-4d08-a514-118ff027e91d",
   "metadata": {},
   "outputs": [
    {
     "data": {
      "text/html": [
       "<div>\n",
       "<style scoped>\n",
       "    .dataframe tbody tr th:only-of-type {\n",
       "        vertical-align: middle;\n",
       "    }\n",
       "\n",
       "    .dataframe tbody tr th {\n",
       "        vertical-align: top;\n",
       "    }\n",
       "\n",
       "    .dataframe thead th {\n",
       "        text-align: right;\n",
       "    }\n",
       "</style>\n",
       "<table border=\"1\" class=\"dataframe\">\n",
       "  <thead>\n",
       "    <tr style=\"text-align: right;\">\n",
       "      <th></th>\n",
       "      <th>Date</th>\n",
       "      <th>StoreNumber</th>\n",
       "      <th>StoreName</th>\n",
       "      <th>City</th>\n",
       "      <th>County</th>\n",
       "      <th>CategoryName</th>\n",
       "      <th>VendorNumber</th>\n",
       "      <th>VendorName</th>\n",
       "      <th>ItemNumber</th>\n",
       "      <th>ItemDescription</th>\n",
       "      <th>BottleVolume(ml)</th>\n",
       "      <th>StateBottleCost</th>\n",
       "      <th>StateBottleRetail</th>\n",
       "      <th>BottlesSold</th>\n",
       "      <th>Sale(Dollars)</th>\n",
       "      <th>VolumeSold(Liters)</th>\n",
       "    </tr>\n",
       "  </thead>\n",
       "  <tbody>\n",
       "    <tr>\n",
       "      <th>283622</th>\n",
       "      <td>2019-08-23</td>\n",
       "      <td>2693</td>\n",
       "      <td>HY-VEE FAST &amp; FRESH EXPRESS- CRESTON</td>\n",
       "      <td></td>\n",
       "      <td></td>\n",
       "      <td>IMPORTED CORDIALS &amp; LIQUEURS</td>\n",
       "      <td>192.00</td>\n",
       "      <td>MAST-JAGERMEISTER US, INC</td>\n",
       "      <td>65251</td>\n",
       "      <td>JAGERMEISTER LIQUEUR MINI</td>\n",
       "      <td>50</td>\n",
       "      <td>29.53</td>\n",
       "      <td>44.31</td>\n",
       "      <td>5</td>\n",
       "      <td>221.50</td>\n",
       "      <td>0.25</td>\n",
       "    </tr>\n",
       "    <tr>\n",
       "      <th>288613</th>\n",
       "      <td>2019-08-23</td>\n",
       "      <td>2693</td>\n",
       "      <td>HY-VEE FAST &amp; FRESH EXPRESS- CRESTON</td>\n",
       "      <td></td>\n",
       "      <td></td>\n",
       "      <td>CANADIAN WHISKIES</td>\n",
       "      <td>115.00</td>\n",
       "      <td>CONSTELLATION BRANDS INC</td>\n",
       "      <td>11771</td>\n",
       "      <td>BLACK VELVET MINI</td>\n",
       "      <td>50</td>\n",
       "      <td>6.80</td>\n",
       "      <td>10.20</td>\n",
       "      <td>10</td>\n",
       "      <td>102.00</td>\n",
       "      <td>0.50</td>\n",
       "    </tr>\n",
       "    <tr>\n",
       "      <th>293379</th>\n",
       "      <td>2019-08-23</td>\n",
       "      <td>2693</td>\n",
       "      <td>HY-VEE FAST &amp; FRESH EXPRESS- CRESTON</td>\n",
       "      <td></td>\n",
       "      <td></td>\n",
       "      <td>CANADIAN WHISKIES</td>\n",
       "      <td>115.00</td>\n",
       "      <td>CONSTELLATION BRANDS INC</td>\n",
       "      <td>11786</td>\n",
       "      <td>BLACK VELVET TRAVELER</td>\n",
       "      <td>750</td>\n",
       "      <td>5.23</td>\n",
       "      <td>7.85</td>\n",
       "      <td>3</td>\n",
       "      <td>23.55</td>\n",
       "      <td>2.25</td>\n",
       "    </tr>\n",
       "    <tr>\n",
       "      <th>294304</th>\n",
       "      <td>2019-08-23</td>\n",
       "      <td>2693</td>\n",
       "      <td>HY-VEE FAST &amp; FRESH EXPRESS- CRESTON</td>\n",
       "      <td></td>\n",
       "      <td></td>\n",
       "      <td>CREAM LIQUEURS</td>\n",
       "      <td>305.00</td>\n",
       "      <td>MHW LTD</td>\n",
       "      <td>73052</td>\n",
       "      <td>RUMCHATA</td>\n",
       "      <td>375</td>\n",
       "      <td>7.00</td>\n",
       "      <td>10.50</td>\n",
       "      <td>4</td>\n",
       "      <td>42.00</td>\n",
       "      <td>1.50</td>\n",
       "    </tr>\n",
       "    <tr>\n",
       "      <th>295789</th>\n",
       "      <td>2019-08-23</td>\n",
       "      <td>2693</td>\n",
       "      <td>HY-VEE FAST &amp; FRESH EXPRESS- CRESTON</td>\n",
       "      <td></td>\n",
       "      <td></td>\n",
       "      <td>IMPORTED DRY GINS</td>\n",
       "      <td>260.00</td>\n",
       "      <td>DIAGEO AMERICAS</td>\n",
       "      <td>28865</td>\n",
       "      <td>TANQUERAY GIN</td>\n",
       "      <td>375</td>\n",
       "      <td>6.99</td>\n",
       "      <td>10.49</td>\n",
       "      <td>4</td>\n",
       "      <td>41.96</td>\n",
       "      <td>1.50</td>\n",
       "    </tr>\n",
       "  </tbody>\n",
       "</table>\n",
       "</div>"
      ],
      "text/plain": [
       "             Date StoreNumber                             StoreName City  \\\n",
       "283622 2019-08-23        2693  HY-VEE FAST & FRESH EXPRESS- CRESTON        \n",
       "288613 2019-08-23        2693  HY-VEE FAST & FRESH EXPRESS- CRESTON        \n",
       "293379 2019-08-23        2693  HY-VEE FAST & FRESH EXPRESS- CRESTON        \n",
       "294304 2019-08-23        2693  HY-VEE FAST & FRESH EXPRESS- CRESTON        \n",
       "295789 2019-08-23        2693  HY-VEE FAST & FRESH EXPRESS- CRESTON        \n",
       "\n",
       "       County                  CategoryName  VendorNumber  \\\n",
       "283622         IMPORTED CORDIALS & LIQUEURS        192.00   \n",
       "288613                    CANADIAN WHISKIES        115.00   \n",
       "293379                    CANADIAN WHISKIES        115.00   \n",
       "294304                       CREAM LIQUEURS        305.00   \n",
       "295789                    IMPORTED DRY GINS        260.00   \n",
       "\n",
       "                       VendorName ItemNumber            ItemDescription  \\\n",
       "283622  MAST-JAGERMEISTER US, INC      65251  JAGERMEISTER LIQUEUR MINI   \n",
       "288613   CONSTELLATION BRANDS INC      11771          BLACK VELVET MINI   \n",
       "293379   CONSTELLATION BRANDS INC      11786      BLACK VELVET TRAVELER   \n",
       "294304                    MHW LTD      73052                   RUMCHATA   \n",
       "295789            DIAGEO AMERICAS      28865              TANQUERAY GIN   \n",
       "\n",
       "        BottleVolume(ml)  StateBottleCost  StateBottleRetail  BottlesSold  \\\n",
       "283622                50            29.53              44.31            5   \n",
       "288613                50             6.80              10.20           10   \n",
       "293379               750             5.23               7.85            3   \n",
       "294304               375             7.00              10.50            4   \n",
       "295789               375             6.99              10.49            4   \n",
       "\n",
       "        Sale(Dollars)  VolumeSold(Liters)  \n",
       "283622         221.50                0.25  \n",
       "288613         102.00                0.50  \n",
       "293379          23.55                2.25  \n",
       "294304          42.00                1.50  \n",
       "295789          41.96                1.50  "
      ]
     },
     "execution_count": 25,
     "metadata": {},
     "output_type": "execute_result"
    }
   ],
   "source": [
    "dados[dados['City'] == ''].head(5)"
   ]
  },
  {
   "cell_type": "code",
   "execution_count": 26,
   "id": "e0447b52-a73c-4676-ac30-c0f677a50421",
   "metadata": {},
   "outputs": [
    {
     "data": {
      "text/plain": [
       "82687"
      ]
     },
     "execution_count": 26,
     "metadata": {},
     "output_type": "execute_result"
    }
   ],
   "source": [
    "len(dados[dados['City'] == ''])"
   ]
  },
  {
   "cell_type": "markdown",
   "id": "58b008f4-0172-47c1-9094-3328d847ed90",
   "metadata": {},
   "source": [
    "Há 82626 linhas sem informações sobre a localização do estabelecimento. No entanto, um estabelecimento pode realizar mais de uma compra, então é possível recuperar a informação com um mínimo de fidelidade, caso ela exista em uma outra compra realizada."
   ]
  },
  {
   "cell_type": "code",
   "execution_count": 27,
   "id": "cce867fb-1aa4-42e3-b1ab-ac558c2ef774",
   "metadata": {},
   "outputs": [],
   "source": [
    "loja_endereco = dados[['StoreNumber', 'City', 'County']]"
   ]
  },
  {
   "cell_type": "code",
   "execution_count": 28,
   "id": "e4fd1bf3-1ec9-4a14-945c-f374cbdc5083",
   "metadata": {},
   "outputs": [],
   "source": [
    "loja_endereco = loja_endereco[loja_endereco['City'] != '']\n",
    "loja_endereco.drop_duplicates(subset = 'StoreNumber', inplace = True)"
   ]
  },
  {
   "cell_type": "code",
   "execution_count": 29,
   "id": "21273179-4aba-444d-892e-6ae993d58023",
   "metadata": {},
   "outputs": [
    {
     "data": {
      "text/html": [
       "<div>\n",
       "<style scoped>\n",
       "    .dataframe tbody tr th:only-of-type {\n",
       "        vertical-align: middle;\n",
       "    }\n",
       "\n",
       "    .dataframe tbody tr th {\n",
       "        vertical-align: top;\n",
       "    }\n",
       "\n",
       "    .dataframe thead th {\n",
       "        text-align: right;\n",
       "    }\n",
       "</style>\n",
       "<table border=\"1\" class=\"dataframe\">\n",
       "  <thead>\n",
       "    <tr style=\"text-align: right;\">\n",
       "      <th></th>\n",
       "      <th>StoreNumber</th>\n",
       "      <th>City</th>\n",
       "      <th>County</th>\n",
       "    </tr>\n",
       "  </thead>\n",
       "  <tbody>\n",
       "    <tr>\n",
       "      <th>0</th>\n",
       "      <td>4167</td>\n",
       "      <td>DUBUQUE</td>\n",
       "      <td>DUBUQUE</td>\n",
       "    </tr>\n",
       "    <tr>\n",
       "      <th>1</th>\n",
       "      <td>2656</td>\n",
       "      <td>CORNING</td>\n",
       "      <td>CLAYTON</td>\n",
       "    </tr>\n",
       "    <tr>\n",
       "      <th>2</th>\n",
       "      <td>4418</td>\n",
       "      <td>WALNUT</td>\n",
       "      <td>POTTAWATTAMIE</td>\n",
       "    </tr>\n",
       "    <tr>\n",
       "      <th>3</th>\n",
       "      <td>2623</td>\n",
       "      <td>SIOUX CITY</td>\n",
       "      <td>WOODBURY</td>\n",
       "    </tr>\n",
       "    <tr>\n",
       "      <th>4</th>\n",
       "      <td>2627</td>\n",
       "      <td>DES MOINES</td>\n",
       "      <td>POLK</td>\n",
       "    </tr>\n",
       "    <tr>\n",
       "      <th>...</th>\n",
       "      <td>...</td>\n",
       "      <td>...</td>\n",
       "      <td>...</td>\n",
       "    </tr>\n",
       "    <tr>\n",
       "      <th>17216258</th>\n",
       "      <td>5016</td>\n",
       "      <td>CEDAR RAPIDS</td>\n",
       "      <td>LINN</td>\n",
       "    </tr>\n",
       "    <tr>\n",
       "      <th>17327974</th>\n",
       "      <td>4965</td>\n",
       "      <td>STORM LAKE</td>\n",
       "      <td>BUENA VISTA</td>\n",
       "    </tr>\n",
       "    <tr>\n",
       "      <th>17447773</th>\n",
       "      <td>4314</td>\n",
       "      <td>FONTANELLE</td>\n",
       "      <td>ADAIR</td>\n",
       "    </tr>\n",
       "    <tr>\n",
       "      <th>19522206</th>\n",
       "      <td>9014</td>\n",
       "      <td>HOLSTEIN</td>\n",
       "      <td>IDA</td>\n",
       "    </tr>\n",
       "    <tr>\n",
       "      <th>22350329</th>\n",
       "      <td>9017</td>\n",
       "      <td>KEOSAUQUA</td>\n",
       "      <td>VAN BUREN</td>\n",
       "    </tr>\n",
       "  </tbody>\n",
       "</table>\n",
       "<p>2920 rows × 3 columns</p>\n",
       "</div>"
      ],
      "text/plain": [
       "         StoreNumber          City         County\n",
       "0               4167       DUBUQUE        DUBUQUE\n",
       "1               2656       CORNING        CLAYTON\n",
       "2               4418        WALNUT  POTTAWATTAMIE\n",
       "3               2623    SIOUX CITY       WOODBURY\n",
       "4               2627    DES MOINES           POLK\n",
       "...              ...           ...            ...\n",
       "17216258        5016  CEDAR RAPIDS           LINN\n",
       "17327974        4965    STORM LAKE    BUENA VISTA\n",
       "17447773        4314    FONTANELLE          ADAIR\n",
       "19522206        9014      HOLSTEIN            IDA\n",
       "22350329        9017     KEOSAUQUA      VAN BUREN\n",
       "\n",
       "[2920 rows x 3 columns]"
      ]
     },
     "execution_count": 29,
     "metadata": {},
     "output_type": "execute_result"
    }
   ],
   "source": [
    "loja_endereco"
   ]
  },
  {
   "cell_type": "code",
   "execution_count": 30,
   "id": "52e95d03-ca8a-4a7a-a7f7-5832e5a68d90",
   "metadata": {},
   "outputs": [],
   "source": [
    "dados.drop(['City', 'County'], axis = 1, inplace = True)"
   ]
  },
  {
   "cell_type": "code",
   "execution_count": 31,
   "id": "3fd5e879-aa4b-4b30-b667-ab447ae0872b",
   "metadata": {},
   "outputs": [],
   "source": [
    "dados = dados.merge(loja_endereco, how = 'left', on = 'StoreNumber')"
   ]
  },
  {
   "cell_type": "code",
   "execution_count": 32,
   "id": "06dbb213-2092-4283-8156-5382837e7c9a",
   "metadata": {},
   "outputs": [],
   "source": [
    "del(loja_endereco)"
   ]
  },
  {
   "cell_type": "code",
   "execution_count": 33,
   "id": "7f6073d4-196d-4a06-a474-c58f7e5855d7",
   "metadata": {},
   "outputs": [
    {
     "data": {
      "text/plain": [
       "City\n",
       "DES MOINES        144\n",
       "CEDAR RAPIDS      143\n",
       "WATERLOO           95\n",
       "DAVENPORT          89\n",
       "COUNCIL BLUFFS     75\n",
       "Name: StoreNumber, dtype: int64"
      ]
     },
     "execution_count": 33,
     "metadata": {},
     "output_type": "execute_result"
    }
   ],
   "source": [
    "dados.groupby('City').StoreNumber.nunique().sort_values(ascending = False).head(5)"
   ]
  },
  {
   "cell_type": "markdown",
   "id": "1c8e4911-65e3-4d52-bf20-8f0a0a79173c",
   "metadata": {},
   "source": [
    "Des Moines é a cidade que mais possui lojas de bebidas, com 144 lojas. Seguida de Cedar Rapids e Waterloo com 142 e 95 lojas, respectivamente."
   ]
  },
  {
   "cell_type": "markdown",
   "id": "dddbece8-f41c-489e-8842-b221c877f52f",
   "metadata": {
    "tags": []
   },
   "source": [
    "### **Quais são os 10 produtos vendidos mais caros?**"
   ]
  },
  {
   "cell_type": "markdown",
   "id": "1cb67db2-f2be-4cb8-ae5c-c171cb4aa891",
   "metadata": {},
   "source": [
    "Há diversas abordagens para determinar quais são os produtos mais caros.\n",
    "\n",
    "O produto mais caro pode ser determinado pelo preço da garrafa ao Alcoholic Beverages Division (ABD), indicado pela coluna `StateBottleCost`. Ou ao estabelecimento, indicado pela coluna `StateBottleRetail`. \n",
    "No entanto, o valor apresentado nas colunas que indicam o preço para a ABD e o estabelecimento, nem sempre estão estabelecidos com base no volume real da garrafa. É possível perceber que existem valores próximos a 190 litros (189000 ml) para cada garrafa.\n",
    "\n",
    "Ou seja, a alternativa mais sensata é determinar o preço por litro do destilado, utilizando a coluna `VolumeSold(Liters)`."
   ]
  },
  {
   "cell_type": "markdown",
   "id": "b41dbc8f-4753-4b92-94fc-47c0740193b2",
   "metadata": {},
   "source": [
    "Há 10 linhas em que o volume vendido em litros (`VolumeSold(Liters)`), consta o valor 0, e as demais colunas que podem auxiliar a encontrar o valor (`BottleVolume(ml)`, `VolumeSold(Gallons)`), também constam o valor 0. Isso, aparentemente, ocorreu pela inserção errada do número do produto no momento da venda. Como o volume de casos é pequeno, prosseguir com a deleção das linhas não gerará impacto relevante no resultado final da análise."
   ]
  },
  {
   "cell_type": "code",
   "execution_count": 34,
   "id": "f2bc9ffa-7c6e-4eec-8dda-9ae1328b007c",
   "metadata": {},
   "outputs": [
    {
     "data": {
      "text/plain": [
       "10"
      ]
     },
     "execution_count": 34,
     "metadata": {},
     "output_type": "execute_result"
    }
   ],
   "source": [
    "len(dados[dados['VolumeSold(Liters)'] == 0])"
   ]
  },
  {
   "cell_type": "code",
   "execution_count": 35,
   "id": "08136c78-1d53-4bf7-8007-f05a19ebc90d",
   "metadata": {},
   "outputs": [],
   "source": [
    "dados = dados[dados['VolumeSold(Liters)'] != 0]"
   ]
  },
  {
   "cell_type": "markdown",
   "id": "a89dfea4-1700-4192-baeb-60c902e69fc9",
   "metadata": {},
   "source": [
    "Segundo o dicionário de dados, a coluna `ItemNumber` se trata de um código identificador único para cada produto, podendo então ser utilizado para refinar os resultados e tornar eles mais apresentáveis.\n",
    "\n",
    "Além disso, em algumas situações, estão designados o número da loja junto a descrição do produto, como é o caso do item `CEDAR RIDGE PORT CASK FINISH BARREL #2590`, os ajustes serão realizados no dataset dados, posteriormente será gerado um novo dataset para responder a pergunta."
   ]
  },
  {
   "cell_type": "code",
   "execution_count": 36,
   "id": "be13983d-54ee-40ee-9c1a-efd3e112559e",
   "metadata": {},
   "outputs": [],
   "source": [
    "dados['ItemDescription'] = dados['ItemDescription'].str.rsplit(' #', n = 1).str.get(0).astype('category')"
   ]
  },
  {
   "cell_type": "code",
   "execution_count": 37,
   "id": "c275df03-810e-4e05-ba66-b43cf9a8d78b",
   "metadata": {},
   "outputs": [],
   "source": [
    "preco_produto = dados[['ItemNumber', 'ItemDescription', 'VolumeSold(Liters)', 'StateBottleRetail']].copy()"
   ]
  },
  {
   "cell_type": "code",
   "execution_count": 38,
   "id": "a408de63-9e4f-428d-93bd-56eecef7dc0d",
   "metadata": {},
   "outputs": [],
   "source": [
    "preco_produto.loc[:, 'price/liter'] = round(((preco_produto['StateBottleRetail'].div(preco_produto['VolumeSold(Liters)'].values, axis = 'index')).iloc[:]))"
   ]
  },
  {
   "cell_type": "code",
   "execution_count": 39,
   "id": "544453e1-08a1-403b-a65e-23eda61e787f",
   "metadata": {},
   "outputs": [],
   "source": [
    "top_10_litro_preco = preco_produto.sort_values('price/liter', ascending = False).drop_duplicates('ItemNumber').drop_duplicates('ItemDescription')[['ItemNumber', 'ItemDescription', 'price/liter']]\n",
    "top_10_litro_preco.index = np.arange(1, len(top_10_litro_preco) + 1)"
   ]
  },
  {
   "cell_type": "code",
   "execution_count": 40,
   "id": "027dec08-f7a8-44f1-a5f0-4d5768f5be1e",
   "metadata": {},
   "outputs": [
    {
     "data": {
      "text/html": [
       "<div>\n",
       "<style scoped>\n",
       "    .dataframe tbody tr th:only-of-type {\n",
       "        vertical-align: middle;\n",
       "    }\n",
       "\n",
       "    .dataframe tbody tr th {\n",
       "        vertical-align: top;\n",
       "    }\n",
       "\n",
       "    .dataframe thead th {\n",
       "        text-align: right;\n",
       "    }\n",
       "</style>\n",
       "<table border=\"1\" class=\"dataframe\">\n",
       "  <thead>\n",
       "    <tr style=\"text-align: right;\">\n",
       "      <th></th>\n",
       "      <th>ItemNumber</th>\n",
       "      <th>ItemDescription</th>\n",
       "      <th>price/liter</th>\n",
       "    </tr>\n",
       "  </thead>\n",
       "  <tbody>\n",
       "    <tr>\n",
       "      <th>1</th>\n",
       "      <td>906540</td>\n",
       "      <td>GLENGOYNE SINGLE MALT SCOTCH 50YR DECANTER</td>\n",
       "      <td>36864.00</td>\n",
       "    </tr>\n",
       "    <tr>\n",
       "      <th>2</th>\n",
       "      <td>927849</td>\n",
       "      <td>CEDAR RIDGE RESERVE BOURBON PRIVATE CASK DNO</td>\n",
       "      <td>15360.00</td>\n",
       "    </tr>\n",
       "    <tr>\n",
       "      <th>3</th>\n",
       "      <td>987087</td>\n",
       "      <td>CEDAR RIDGE PORT CASK FINISH BARREL</td>\n",
       "      <td>12000.00</td>\n",
       "    </tr>\n",
       "    <tr>\n",
       "      <th>4</th>\n",
       "      <td>927368</td>\n",
       "      <td>CEDAR RIDGE BARREL PROOF BOURBON - USE CODE 92...</td>\n",
       "      <td>11608.00</td>\n",
       "    </tr>\n",
       "    <tr>\n",
       "      <th>5</th>\n",
       "      <td>987088</td>\n",
       "      <td>CEDAR RIDGE BARREL PROOF BOURBON BARREL</td>\n",
       "      <td>11608.00</td>\n",
       "    </tr>\n",
       "    <tr>\n",
       "      <th>6</th>\n",
       "      <td>990029</td>\n",
       "      <td>TEQUILA 3 AMIGOS BLANCO MINI</td>\n",
       "      <td>7068.00</td>\n",
       "    </tr>\n",
       "    <tr>\n",
       "      <th>7</th>\n",
       "      <td>48725</td>\n",
       "      <td>REMY MARTIN LOUIS XIII</td>\n",
       "      <td>4596.00</td>\n",
       "    </tr>\n",
       "    <tr>\n",
       "      <th>8</th>\n",
       "      <td>85835</td>\n",
       "      <td>TEQUILA PADRE AZUL ANEJO MINI</td>\n",
       "      <td>4592.00</td>\n",
       "    </tr>\n",
       "    <tr>\n",
       "      <th>9</th>\n",
       "      <td>905832</td>\n",
       "      <td>HA PORT ELLEN 37YR</td>\n",
       "      <td>4500.00</td>\n",
       "    </tr>\n",
       "    <tr>\n",
       "      <th>10</th>\n",
       "      <td>985746</td>\n",
       "      <td>HA CODIGO 1530 TEQUILA EXTRA ANEJO 14 YEARS W/...</td>\n",
       "      <td>4400.00</td>\n",
       "    </tr>\n",
       "  </tbody>\n",
       "</table>\n",
       "</div>"
      ],
      "text/plain": [
       "   ItemNumber                                    ItemDescription  price/liter\n",
       "1      906540         GLENGOYNE SINGLE MALT SCOTCH 50YR DECANTER     36864.00\n",
       "2      927849       CEDAR RIDGE RESERVE BOURBON PRIVATE CASK DNO     15360.00\n",
       "3      987087                CEDAR RIDGE PORT CASK FINISH BARREL     12000.00\n",
       "4      927368  CEDAR RIDGE BARREL PROOF BOURBON - USE CODE 92...     11608.00\n",
       "5      987088            CEDAR RIDGE BARREL PROOF BOURBON BARREL     11608.00\n",
       "6      990029                       TEQUILA 3 AMIGOS BLANCO MINI      7068.00\n",
       "7       48725                             REMY MARTIN LOUIS XIII      4596.00\n",
       "8       85835                      TEQUILA PADRE AZUL ANEJO MINI      4592.00\n",
       "9      905832                                 HA PORT ELLEN 37YR      4500.00\n",
       "10     985746  HA CODIGO 1530 TEQUILA EXTRA ANEJO 14 YEARS W/...      4400.00"
      ]
     },
     "execution_count": 40,
     "metadata": {},
     "output_type": "execute_result"
    }
   ],
   "source": [
    "top_10_litro_preco.head(10)"
   ]
  },
  {
   "cell_type": "code",
   "execution_count": 41,
   "id": "734e8391-e2fb-4426-a59b-576ae73cb4da",
   "metadata": {},
   "outputs": [],
   "source": [
    "del(top_10_litro_preco, preco_produto)"
   ]
  },
  {
   "cell_type": "markdown",
   "id": "d8d8e303-a335-4144-b58d-dec47e1047c9",
   "metadata": {
    "tags": []
   },
   "source": [
    "### **Qual o fornecedor que mais vendeu em todo o período? E quais foram os fornecedores que mais venderam nos últimos 10 meses por mês?**"
   ]
  },
  {
   "cell_type": "markdown",
   "id": "0d65e9c2-ce33-47f5-a3e7-02a313c99e3a",
   "metadata": {},
   "source": [
    "A quantidade de valores únicos para `VendorName` e `VendorNumber` é diferente, tendo mais valores em `VendorName`. O que pode ser um indicio de mudança de nome do fornecedor, ou unidades de uma rede. Dessa forma, a coluna `VendorNumber` é a informação mais confiável."
   ]
  },
  {
   "cell_type": "code",
   "execution_count": 42,
   "id": "8423ada7-417e-419b-bd19-4dd4c4bf6067",
   "metadata": {},
   "outputs": [],
   "source": [
    "maior_fornecedor = dados[dados['VendorNumber'] == dados['VendorNumber'].value_counts().index[0]].drop_duplicates('VendorNumber')[['VendorNumber', 'VendorName']]\n",
    "maior_fornecedor['qtd_vendida'] = dados['VendorNumber'].value_counts().max()\n",
    "maior_fornecedor['StateBottleCost_total'] = dados[dados['VendorNumber'] == dados['VendorNumber'].value_counts().index[0]][['StateBottleCost']].astype('float').sum()[0]\n",
    "maior_fornecedor['StateBottleRetail_total'] = dados[dados['VendorNumber'] == dados['VendorNumber'].value_counts().index[0]][['StateBottleRetail']].astype('float').sum()[0]"
   ]
  },
  {
   "cell_type": "code",
   "execution_count": 43,
   "id": "00368588-3c57-4372-8aa3-39196e490dec",
   "metadata": {},
   "outputs": [
    {
     "data": {
      "text/html": [
       "<div>\n",
       "<style scoped>\n",
       "    .dataframe tbody tr th:only-of-type {\n",
       "        vertical-align: middle;\n",
       "    }\n",
       "\n",
       "    .dataframe tbody tr th {\n",
       "        vertical-align: top;\n",
       "    }\n",
       "\n",
       "    .dataframe thead th {\n",
       "        text-align: right;\n",
       "    }\n",
       "</style>\n",
       "<table border=\"1\" class=\"dataframe\">\n",
       "  <thead>\n",
       "    <tr style=\"text-align: right;\">\n",
       "      <th></th>\n",
       "      <th>VendorNumber</th>\n",
       "      <th>VendorName</th>\n",
       "      <th>qtd_vendida</th>\n",
       "      <th>StateBottleCost_total</th>\n",
       "      <th>StateBottleRetail_total</th>\n",
       "    </tr>\n",
       "  </thead>\n",
       "  <tbody>\n",
       "    <tr>\n",
       "      <th>9</th>\n",
       "      <td>260.00</td>\n",
       "      <td>DIAGEO AMERICAS</td>\n",
       "      <td>4355663</td>\n",
       "      <td>54841095.43</td>\n",
       "      <td>82284915.82</td>\n",
       "    </tr>\n",
       "  </tbody>\n",
       "</table>\n",
       "</div>"
      ],
      "text/plain": [
       "   VendorNumber       VendorName  qtd_vendida  StateBottleCost_total  \\\n",
       "9        260.00  DIAGEO AMERICAS      4355663            54841095.43   \n",
       "\n",
       "   StateBottleRetail_total  \n",
       "9              82284915.82  "
      ]
     },
     "execution_count": 43,
     "metadata": {},
     "output_type": "execute_result"
    }
   ],
   "source": [
    "maior_fornecedor"
   ]
  },
  {
   "cell_type": "markdown",
   "id": "0316b41e-2cec-4dfe-b9f2-1b3ee3d4f628",
   "metadata": {},
   "source": [
    "DIAGEO AMERICAS foi o fornecedor que mais vendeu, identificado pelo `VendorNumber` 260, com 4.325.813 vendas."
   ]
  },
  {
   "cell_type": "code",
   "execution_count": 44,
   "id": "12fc983c-d074-46ba-846d-6e7c03d2c7f0",
   "metadata": {},
   "outputs": [],
   "source": [
    "del(maior_fornecedor)"
   ]
  },
  {
   "cell_type": "code",
   "execution_count": 45,
   "id": "294236ca-470a-4af1-b03a-240ffb2ac154",
   "metadata": {},
   "outputs": [],
   "source": [
    "ultimos_10_meses = dados[['Date', 'VendorNumber', 'VendorName', 'StateBottleCost', 'StateBottleRetail']].copy()"
   ]
  },
  {
   "cell_type": "markdown",
   "id": "5e26311c-d3bc-439d-a246-ccc3838ba6b1",
   "metadata": {},
   "source": [
    "O último mês apresentado no dataset, nada data de análise, é o mês de março. Logo, será necessário considerar apenas os 10 meses anteriores, incluindo março."
   ]
  },
  {
   "cell_type": "code",
   "execution_count": 46,
   "id": "210d26f0-8355-4f2b-8cd4-33eefa197bbb",
   "metadata": {},
   "outputs": [
    {
     "data": {
      "text/plain": [
       "Timestamp('2023-04-28 00:00:00')"
      ]
     },
     "execution_count": 46,
     "metadata": {},
     "output_type": "execute_result"
    }
   ],
   "source": [
    "ultimos_10_meses['Date'].max()"
   ]
  },
  {
   "cell_type": "code",
   "execution_count": 47,
   "id": "6dd2cd21-c4fc-4e2a-8044-49c891afbe56",
   "metadata": {},
   "outputs": [],
   "source": [
    "ultimos_10_meses['mes'] = pd.DatetimeIndex(ultimos_10_meses['Date']).month"
   ]
  },
  {
   "cell_type": "code",
   "execution_count": 48,
   "id": "ad7d5377-1072-4218-8841-2ada36434dd6",
   "metadata": {},
   "outputs": [],
   "source": [
    "ultimos_10_meses = ultimos_10_meses[ultimos_10_meses['Date'] >= pd.Timestamp(2022, 7, 1)]"
   ]
  },
  {
   "cell_type": "code",
   "execution_count": 49,
   "id": "2f11d218-06d0-4bd0-ad18-451a926a8c4e",
   "metadata": {},
   "outputs": [],
   "source": [
    "ultimos_10_meses.drop('Date', axis = 1, inplace = True)"
   ]
  },
  {
   "cell_type": "code",
   "execution_count": 50,
   "id": "3b8d72b9-9412-4484-8040-9d7e3e4aa157",
   "metadata": {},
   "outputs": [],
   "source": [
    "# Criação de um counter irá facilitar a realização do cálculo de agregação necessário\n",
    "ultimos_10_meses.loc[:, 'counter'] = 1"
   ]
  },
  {
   "cell_type": "code",
   "execution_count": 51,
   "id": "6c949ad6-d9bb-45d9-b75c-4b6aa8e9431c",
   "metadata": {},
   "outputs": [],
   "source": [
    "ultimos_10_meses = ultimos_10_meses.astype({'StateBottleCost' : 'float', 'StateBottleRetail' : 'float', 'VendorNumber' : 'object'})"
   ]
  },
  {
   "cell_type": "code",
   "execution_count": 52,
   "id": "ef0ab453-691d-43e8-83d5-512f1b500e96",
   "metadata": {},
   "outputs": [
    {
     "data": {
      "text/html": [
       "<div>\n",
       "<style scoped>\n",
       "    .dataframe tbody tr th:only-of-type {\n",
       "        vertical-align: middle;\n",
       "    }\n",
       "\n",
       "    .dataframe tbody tr th {\n",
       "        vertical-align: top;\n",
       "    }\n",
       "\n",
       "    .dataframe thead th {\n",
       "        text-align: right;\n",
       "    }\n",
       "</style>\n",
       "<table border=\"1\" class=\"dataframe\">\n",
       "  <thead>\n",
       "    <tr style=\"text-align: right;\">\n",
       "      <th></th>\n",
       "      <th>VendorNumber</th>\n",
       "      <th>VendorName</th>\n",
       "      <th>mes</th>\n",
       "      <th>StateBottleCost</th>\n",
       "      <th>StateBottleRetail</th>\n",
       "      <th>counter</th>\n",
       "    </tr>\n",
       "  </thead>\n",
       "  <tbody>\n",
       "    <tr>\n",
       "      <th>507269</th>\n",
       "      <td>421.00</td>\n",
       "      <td>SAZERAC COMPANY  INC</td>\n",
       "      <td>12</td>\n",
       "      <td>478463.98</td>\n",
       "      <td>717704.70</td>\n",
       "      <td>41483</td>\n",
       "    </tr>\n",
       "    <tr>\n",
       "      <th>507268</th>\n",
       "      <td>421.00</td>\n",
       "      <td>SAZERAC COMPANY  INC</td>\n",
       "      <td>11</td>\n",
       "      <td>405661.83</td>\n",
       "      <td>608481.13</td>\n",
       "      <td>37057</td>\n",
       "    </tr>\n",
       "    <tr>\n",
       "      <th>507267</th>\n",
       "      <td>421.00</td>\n",
       "      <td>SAZERAC COMPANY  INC</td>\n",
       "      <td>10</td>\n",
       "      <td>430761.56</td>\n",
       "      <td>646125.76</td>\n",
       "      <td>36734</td>\n",
       "    </tr>\n",
       "    <tr>\n",
       "      <th>507266</th>\n",
       "      <td>421.00</td>\n",
       "      <td>SAZERAC COMPANY  INC</td>\n",
       "      <td>9</td>\n",
       "      <td>423879.44</td>\n",
       "      <td>635801.16</td>\n",
       "      <td>37181</td>\n",
       "    </tr>\n",
       "    <tr>\n",
       "      <th>507265</th>\n",
       "      <td>421.00</td>\n",
       "      <td>SAZERAC COMPANY  INC</td>\n",
       "      <td>8</td>\n",
       "      <td>430199.66</td>\n",
       "      <td>645307.08</td>\n",
       "      <td>38212</td>\n",
       "    </tr>\n",
       "    <tr>\n",
       "      <th>255664</th>\n",
       "      <td>260.00</td>\n",
       "      <td>DIAGEO AMERICAS</td>\n",
       "      <td>7</td>\n",
       "      <td>493472.29</td>\n",
       "      <td>740331.42</td>\n",
       "      <td>33853</td>\n",
       "    </tr>\n",
       "    <tr>\n",
       "      <th>507263</th>\n",
       "      <td>421.00</td>\n",
       "      <td>SAZERAC COMPANY  INC</td>\n",
       "      <td>4</td>\n",
       "      <td>344051.79</td>\n",
       "      <td>516069.10</td>\n",
       "      <td>34182</td>\n",
       "    </tr>\n",
       "    <tr>\n",
       "      <th>507262</th>\n",
       "      <td>421.00</td>\n",
       "      <td>SAZERAC COMPANY  INC</td>\n",
       "      <td>3</td>\n",
       "      <td>394575.86</td>\n",
       "      <td>591852.00</td>\n",
       "      <td>38376</td>\n",
       "    </tr>\n",
       "    <tr>\n",
       "      <th>507261</th>\n",
       "      <td>421.00</td>\n",
       "      <td>SAZERAC COMPANY  INC</td>\n",
       "      <td>2</td>\n",
       "      <td>334474.62</td>\n",
       "      <td>501707.80</td>\n",
       "      <td>32952</td>\n",
       "    </tr>\n",
       "    <tr>\n",
       "      <th>507260</th>\n",
       "      <td>421.00</td>\n",
       "      <td>SAZERAC COMPANY  INC</td>\n",
       "      <td>1</td>\n",
       "      <td>409359.08</td>\n",
       "      <td>614036.65</td>\n",
       "      <td>37919</td>\n",
       "    </tr>\n",
       "  </tbody>\n",
       "</table>\n",
       "</div>"
      ],
      "text/plain": [
       "        VendorNumber            VendorName  mes  StateBottleCost  \\\n",
       "507269        421.00  SAZERAC COMPANY  INC   12        478463.98   \n",
       "507268        421.00  SAZERAC COMPANY  INC   11        405661.83   \n",
       "507267        421.00  SAZERAC COMPANY  INC   10        430761.56   \n",
       "507266        421.00  SAZERAC COMPANY  INC    9        423879.44   \n",
       "507265        421.00  SAZERAC COMPANY  INC    8        430199.66   \n",
       "255664        260.00       DIAGEO AMERICAS    7        493472.29   \n",
       "507263        421.00  SAZERAC COMPANY  INC    4        344051.79   \n",
       "507262        421.00  SAZERAC COMPANY  INC    3        394575.86   \n",
       "507261        421.00  SAZERAC COMPANY  INC    2        334474.62   \n",
       "507260        421.00  SAZERAC COMPANY  INC    1        409359.08   \n",
       "\n",
       "        StateBottleRetail  counter  \n",
       "507269          717704.70    41483  \n",
       "507268          608481.13    37057  \n",
       "507267          646125.76    36734  \n",
       "507266          635801.16    37181  \n",
       "507265          645307.08    38212  \n",
       "255664          740331.42    33853  \n",
       "507263          516069.10    34182  \n",
       "507262          591852.00    38376  \n",
       "507261          501707.80    32952  \n",
       "507260          614036.65    37919  "
      ]
     },
     "execution_count": 52,
     "metadata": {},
     "output_type": "execute_result"
    }
   ],
   "source": [
    "ultimos_10_meses.groupby(['VendorNumber', 'VendorName', 'mes']).sum().reset_index(drop = False).sort_values(['mes', 'counter'], ascending = False).drop_duplicates(['mes'])"
   ]
  },
  {
   "cell_type": "code",
   "execution_count": 53,
   "id": "7471d5d6-7bb9-4cd9-8295-2e6054de5e8e",
   "metadata": {},
   "outputs": [],
   "source": [
    "del(ultimos_10_meses)"
   ]
  },
  {
   "cell_type": "markdown",
   "id": "b7782a32-baf4-49d3-b348-81119cc475d1",
   "metadata": {
    "tags": []
   },
   "source": [
    "### **Qual a categoria mais vendida por volume total no período? E por quantidade de vendas realizadas?**"
   ]
  },
  {
   "cell_type": "code",
   "execution_count": 54,
   "id": "920205a0-5e82-481e-b2a1-d4737d66f575",
   "metadata": {},
   "outputs": [
    {
     "data": {
      "text/html": [
       "<div>\n",
       "<style scoped>\n",
       "    .dataframe tbody tr th:only-of-type {\n",
       "        vertical-align: middle;\n",
       "    }\n",
       "\n",
       "    .dataframe tbody tr th {\n",
       "        vertical-align: top;\n",
       "    }\n",
       "\n",
       "    .dataframe thead th {\n",
       "        text-align: right;\n",
       "    }\n",
       "</style>\n",
       "<table border=\"1\" class=\"dataframe\">\n",
       "  <thead>\n",
       "    <tr style=\"text-align: right;\">\n",
       "      <th></th>\n",
       "      <th>Date</th>\n",
       "      <th>StoreNumber</th>\n",
       "      <th>StoreName</th>\n",
       "      <th>CategoryName</th>\n",
       "      <th>VendorNumber</th>\n",
       "      <th>VendorName</th>\n",
       "      <th>ItemNumber</th>\n",
       "      <th>ItemDescription</th>\n",
       "      <th>BottleVolume(ml)</th>\n",
       "      <th>StateBottleCost</th>\n",
       "      <th>StateBottleRetail</th>\n",
       "      <th>BottlesSold</th>\n",
       "      <th>Sale(Dollars)</th>\n",
       "      <th>VolumeSold(Liters)</th>\n",
       "      <th>City</th>\n",
       "      <th>County</th>\n",
       "    </tr>\n",
       "  </thead>\n",
       "  <tbody>\n",
       "    <tr>\n",
       "      <th>0</th>\n",
       "      <td>2016-02-16</td>\n",
       "      <td>4167</td>\n",
       "      <td>IOWA STREET MARKET, INC.</td>\n",
       "      <td>AMERICAN GRAPE BRANDIES</td>\n",
       "      <td>85.00</td>\n",
       "      <td>BROWN-FORMAN CORPORATION</td>\n",
       "      <td>52806</td>\n",
       "      <td>KORBEL BRANDY</td>\n",
       "      <td>750</td>\n",
       "      <td>6.66</td>\n",
       "      <td>9.99</td>\n",
       "      <td>12</td>\n",
       "      <td>119.88</td>\n",
       "      <td>9.00</td>\n",
       "      <td>DUBUQUE</td>\n",
       "      <td>DUBUQUE</td>\n",
       "    </tr>\n",
       "    <tr>\n",
       "      <th>1</th>\n",
       "      <td>2016-02-16</td>\n",
       "      <td>2656</td>\n",
       "      <td>HY-VEE FOOD STORE / CORNING</td>\n",
       "      <td>WHISKEY LIQUEUR</td>\n",
       "      <td>85.00</td>\n",
       "      <td>BROWN-FORMAN CORPORATION</td>\n",
       "      <td>86886</td>\n",
       "      <td>SOUTHERN COMFORT</td>\n",
       "      <td>750</td>\n",
       "      <td>10.33</td>\n",
       "      <td>15.50</td>\n",
       "      <td>12</td>\n",
       "      <td>186.00</td>\n",
       "      <td>9.00</td>\n",
       "      <td>CORNING</td>\n",
       "      <td>CLAYTON</td>\n",
       "    </tr>\n",
       "    <tr>\n",
       "      <th>2</th>\n",
       "      <td>2016-02-22</td>\n",
       "      <td>4418</td>\n",
       "      <td>KUM &amp; GO #46 / WALNUT</td>\n",
       "      <td>VODKA 80 PROOF</td>\n",
       "      <td>434.00</td>\n",
       "      <td>LUXCO-ST LOUIS</td>\n",
       "      <td>36308</td>\n",
       "      <td>HAWKEYE VODKA</td>\n",
       "      <td>1750</td>\n",
       "      <td>7.17</td>\n",
       "      <td>10.76</td>\n",
       "      <td>12</td>\n",
       "      <td>129.12</td>\n",
       "      <td>21.00</td>\n",
       "      <td>WALNUT</td>\n",
       "      <td>POTTAWATTAMIE</td>\n",
       "    </tr>\n",
       "    <tr>\n",
       "      <th>3</th>\n",
       "      <td>2016-02-10</td>\n",
       "      <td>2623</td>\n",
       "      <td>HY-VEE FOOD STORE #4 / SIOUX CITY</td>\n",
       "      <td>VODKA FLAVORED</td>\n",
       "      <td>380.00</td>\n",
       "      <td>PHILLIPS BEVERAGE COMPANY</td>\n",
       "      <td>41857</td>\n",
       "      <td>UV CHERRY RED VODKA MINI</td>\n",
       "      <td>500</td>\n",
       "      <td>4.89</td>\n",
       "      <td>7.34</td>\n",
       "      <td>1</td>\n",
       "      <td>7.34</td>\n",
       "      <td>0.50</td>\n",
       "      <td>SIOUX CITY</td>\n",
       "      <td>WOODBURY</td>\n",
       "    </tr>\n",
       "    <tr>\n",
       "      <th>4</th>\n",
       "      <td>2016-02-22</td>\n",
       "      <td>2627</td>\n",
       "      <td>HY-VEE WINE AND SPIRITS #1</td>\n",
       "      <td>IMPORTED GRAPE BRANDIES</td>\n",
       "      <td>389.00</td>\n",
       "      <td>REMY COINTREAU USA         .</td>\n",
       "      <td>66295</td>\n",
       "      <td>REMY MARTIN V</td>\n",
       "      <td>200</td>\n",
       "      <td>5.42</td>\n",
       "      <td>8.13</td>\n",
       "      <td>4</td>\n",
       "      <td>32.52</td>\n",
       "      <td>0.80</td>\n",
       "      <td>DES MOINES</td>\n",
       "      <td>POLK</td>\n",
       "    </tr>\n",
       "  </tbody>\n",
       "</table>\n",
       "</div>"
      ],
      "text/plain": [
       "        Date StoreNumber                          StoreName  \\\n",
       "0 2016-02-16        4167           IOWA STREET MARKET, INC.   \n",
       "1 2016-02-16        2656        HY-VEE FOOD STORE / CORNING   \n",
       "2 2016-02-22        4418              KUM & GO #46 / WALNUT   \n",
       "3 2016-02-10        2623  HY-VEE FOOD STORE #4 / SIOUX CITY   \n",
       "4 2016-02-22        2627         HY-VEE WINE AND SPIRITS #1   \n",
       "\n",
       "              CategoryName  VendorNumber                    VendorName  \\\n",
       "0  AMERICAN GRAPE BRANDIES         85.00      BROWN-FORMAN CORPORATION   \n",
       "1          WHISKEY LIQUEUR         85.00      BROWN-FORMAN CORPORATION   \n",
       "2           VODKA 80 PROOF        434.00                LUXCO-ST LOUIS   \n",
       "3           VODKA FLAVORED        380.00     PHILLIPS BEVERAGE COMPANY   \n",
       "4  IMPORTED GRAPE BRANDIES        389.00  REMY COINTREAU USA         .   \n",
       "\n",
       "  ItemNumber           ItemDescription  BottleVolume(ml)  StateBottleCost  \\\n",
       "0      52806             KORBEL BRANDY               750             6.66   \n",
       "1      86886          SOUTHERN COMFORT               750            10.33   \n",
       "2      36308             HAWKEYE VODKA              1750             7.17   \n",
       "3      41857  UV CHERRY RED VODKA MINI               500             4.89   \n",
       "4      66295             REMY MARTIN V               200             5.42   \n",
       "\n",
       "   StateBottleRetail  BottlesSold  Sale(Dollars)  VolumeSold(Liters)  \\\n",
       "0               9.99           12         119.88                9.00   \n",
       "1              15.50           12         186.00                9.00   \n",
       "2              10.76           12         129.12               21.00   \n",
       "3               7.34            1           7.34                0.50   \n",
       "4               8.13            4          32.52                0.80   \n",
       "\n",
       "         City         County  \n",
       "0     DUBUQUE        DUBUQUE  \n",
       "1     CORNING        CLAYTON  \n",
       "2      WALNUT  POTTAWATTAMIE  \n",
       "3  SIOUX CITY       WOODBURY  \n",
       "4  DES MOINES           POLK  "
      ]
     },
     "execution_count": 54,
     "metadata": {},
     "output_type": "execute_result"
    }
   ],
   "source": [
    "dados.head(5)"
   ]
  },
  {
   "cell_type": "code",
   "execution_count": 55,
   "id": "01178868-00fe-4a14-a1ba-19105873ffd9",
   "metadata": {},
   "outputs": [
    {
     "data": {
      "text/html": [
       "<div>\n",
       "<style scoped>\n",
       "    .dataframe tbody tr th:only-of-type {\n",
       "        vertical-align: middle;\n",
       "    }\n",
       "\n",
       "    .dataframe tbody tr th {\n",
       "        vertical-align: top;\n",
       "    }\n",
       "\n",
       "    .dataframe thead th {\n",
       "        text-align: right;\n",
       "    }\n",
       "</style>\n",
       "<table border=\"1\" class=\"dataframe\">\n",
       "  <thead>\n",
       "    <tr style=\"text-align: right;\">\n",
       "      <th></th>\n",
       "      <th>VolumeSold(Liters)</th>\n",
       "      <th>Sale(Dollars)</th>\n",
       "    </tr>\n",
       "    <tr>\n",
       "      <th>CategoryName</th>\n",
       "      <th></th>\n",
       "      <th></th>\n",
       "    </tr>\n",
       "  </thead>\n",
       "  <tbody>\n",
       "    <tr>\n",
       "      <th>CANADIAN WHISKIES</th>\n",
       "      <td>31215840.00</td>\n",
       "      <td>443418624.00</td>\n",
       "    </tr>\n",
       "    <tr>\n",
       "      <th>AMERICAN VODKAS</th>\n",
       "      <td>35287520.00</td>\n",
       "      <td>361934624.00</td>\n",
       "    </tr>\n",
       "    <tr>\n",
       "      <th>SPICED RUM</th>\n",
       "      <td>16151571.00</td>\n",
       "      <td>248878864.00</td>\n",
       "    </tr>\n",
       "    <tr>\n",
       "      <th>STRAIGHT BOURBON WHISKIES</th>\n",
       "      <td>11355365.00</td>\n",
       "      <td>248392880.00</td>\n",
       "    </tr>\n",
       "    <tr>\n",
       "      <th>WHISKEY LIQUEUR</th>\n",
       "      <td>10278731.00</td>\n",
       "      <td>192860848.00</td>\n",
       "    </tr>\n",
       "  </tbody>\n",
       "</table>\n",
       "</div>"
      ],
      "text/plain": [
       "                           VolumeSold(Liters)  Sale(Dollars)\n",
       "CategoryName                                                \n",
       "CANADIAN WHISKIES                 31215840.00   443418624.00\n",
       "AMERICAN VODKAS                   35287520.00   361934624.00\n",
       "SPICED RUM                        16151571.00   248878864.00\n",
       "STRAIGHT BOURBON WHISKIES         11355365.00   248392880.00\n",
       "WHISKEY LIQUEUR                   10278731.00   192860848.00"
      ]
     },
     "execution_count": 55,
     "metadata": {},
     "output_type": "execute_result"
    }
   ],
   "source": [
    "dados[['CategoryName', 'VolumeSold(Liters)', 'Sale(Dollars)']].groupby('CategoryName').sum().sort_values('Sale(Dollars)', ascending = False).head(5)"
   ]
  },
  {
   "cell_type": "code",
   "execution_count": 56,
   "id": "600e6c79-272c-42ca-9b81-17ebeb9bcb1b",
   "metadata": {},
   "outputs": [
    {
     "data": {
      "text/html": [
       "<div>\n",
       "<style scoped>\n",
       "    .dataframe tbody tr th:only-of-type {\n",
       "        vertical-align: middle;\n",
       "    }\n",
       "\n",
       "    .dataframe tbody tr th {\n",
       "        vertical-align: top;\n",
       "    }\n",
       "\n",
       "    .dataframe thead th {\n",
       "        text-align: right;\n",
       "    }\n",
       "</style>\n",
       "<table border=\"1\" class=\"dataframe\">\n",
       "  <thead>\n",
       "    <tr style=\"text-align: right;\">\n",
       "      <th></th>\n",
       "      <th>VolumeSold(Liters)</th>\n",
       "      <th>Sale(Dollars)</th>\n",
       "    </tr>\n",
       "    <tr>\n",
       "      <th>CategoryName</th>\n",
       "      <th></th>\n",
       "      <th></th>\n",
       "    </tr>\n",
       "  </thead>\n",
       "  <tbody>\n",
       "    <tr>\n",
       "      <th>AMERICAN VODKAS</th>\n",
       "      <td>35287520.00</td>\n",
       "      <td>361934624.00</td>\n",
       "    </tr>\n",
       "    <tr>\n",
       "      <th>CANADIAN WHISKIES</th>\n",
       "      <td>31215840.00</td>\n",
       "      <td>443418624.00</td>\n",
       "    </tr>\n",
       "    <tr>\n",
       "      <th>VODKA 80 PROOF</th>\n",
       "      <td>17797438.00</td>\n",
       "      <td>145764896.00</td>\n",
       "    </tr>\n",
       "    <tr>\n",
       "      <th>SPICED RUM</th>\n",
       "      <td>16151571.00</td>\n",
       "      <td>248878864.00</td>\n",
       "    </tr>\n",
       "    <tr>\n",
       "      <th>STRAIGHT BOURBON WHISKIES</th>\n",
       "      <td>11355365.00</td>\n",
       "      <td>248392880.00</td>\n",
       "    </tr>\n",
       "  </tbody>\n",
       "</table>\n",
       "</div>"
      ],
      "text/plain": [
       "                           VolumeSold(Liters)  Sale(Dollars)\n",
       "CategoryName                                                \n",
       "AMERICAN VODKAS                   35287520.00   361934624.00\n",
       "CANADIAN WHISKIES                 31215840.00   443418624.00\n",
       "VODKA 80 PROOF                    17797438.00   145764896.00\n",
       "SPICED RUM                        16151571.00   248878864.00\n",
       "STRAIGHT BOURBON WHISKIES         11355365.00   248392880.00"
      ]
     },
     "execution_count": 56,
     "metadata": {},
     "output_type": "execute_result"
    }
   ],
   "source": [
    "dados[['CategoryName', 'VolumeSold(Liters)', 'Sale(Dollars)']].groupby('CategoryName').sum().sort_values('VolumeSold(Liters)', ascending = False).head(5)"
   ]
  },
  {
   "cell_type": "code",
   "execution_count": 57,
   "id": "c48ad5ad-d7c8-4cfc-99fc-1278a455d917",
   "metadata": {},
   "outputs": [
    {
     "data": {
      "text/plain": [
       "CategoryName\n",
       "CANADIAN WHISKIES            2520035\n",
       "AMERICAN VODKAS              2474453\n",
       "STRAIGHT BOURBON WHISKIES    1653356\n",
       "SPICED RUM                   1294178\n",
       "VODKA 80 PROOF               1265967\n",
       "Name: count, dtype: int64"
      ]
     },
     "execution_count": 57,
     "metadata": {},
     "output_type": "execute_result"
    }
   ],
   "source": [
    "dados['CategoryName'].value_counts().head(5)"
   ]
  },
  {
   "cell_type": "markdown",
   "id": "c2ec0bad-cfe6-4ebd-8d01-b891f1e3ad90",
   "metadata": {},
   "source": [
    "A categoria de produto mais vendida tanto em valor monetário, quanto em quantidade de vendas no período foram Whiskies Canadenses. Porém, em volume de litros total, Vodkas Americanas foram as mais vendidas em todo o período."
   ]
  },
  {
   "cell_type": "markdown",
   "id": "52b42e88-0870-4551-ac8c-9dee1c7e9de7",
   "metadata": {
    "tags": []
   },
   "source": [
    "### **Qual o produto mais vendido por condado?**"
   ]
  },
  {
   "cell_type": "code",
   "execution_count": 58,
   "id": "d3156b61-855c-402c-853a-582546ec5dea",
   "metadata": {},
   "outputs": [
    {
     "data": {
      "text/html": [
       "<div>\n",
       "<style scoped>\n",
       "    .dataframe tbody tr th:only-of-type {\n",
       "        vertical-align: middle;\n",
       "    }\n",
       "\n",
       "    .dataframe tbody tr th {\n",
       "        vertical-align: top;\n",
       "    }\n",
       "\n",
       "    .dataframe thead th {\n",
       "        text-align: right;\n",
       "    }\n",
       "</style>\n",
       "<table border=\"1\" class=\"dataframe\">\n",
       "  <thead>\n",
       "    <tr style=\"text-align: right;\">\n",
       "      <th></th>\n",
       "      <th>County</th>\n",
       "      <th>ItemDescription</th>\n",
       "      <th>BottlesSold</th>\n",
       "    </tr>\n",
       "  </thead>\n",
       "  <tbody>\n",
       "    <tr>\n",
       "      <th>0</th>\n",
       "      <td>POLK</td>\n",
       "      <td>FIREBALL CINNAMON WHISKEY</td>\n",
       "      <td>3806467</td>\n",
       "    </tr>\n",
       "    <tr>\n",
       "      <th>1</th>\n",
       "      <td>LINN</td>\n",
       "      <td>FIREBALL CINNAMON WHISKEY</td>\n",
       "      <td>1279824</td>\n",
       "    </tr>\n",
       "    <tr>\n",
       "      <th>2</th>\n",
       "      <td>SCOTT</td>\n",
       "      <td>FIREBALL CINNAMON WHISKEY</td>\n",
       "      <td>1107763</td>\n",
       "    </tr>\n",
       "    <tr>\n",
       "      <th>3</th>\n",
       "      <td>POTTAWATTAMIE</td>\n",
       "      <td>FIREBALL CINNAMON WHISKEY</td>\n",
       "      <td>769494</td>\n",
       "    </tr>\n",
       "    <tr>\n",
       "      <th>4</th>\n",
       "      <td>BLACK HAWK</td>\n",
       "      <td>BLACK VELVET</td>\n",
       "      <td>740887</td>\n",
       "    </tr>\n",
       "    <tr>\n",
       "      <th>5</th>\n",
       "      <td>WOODBURY</td>\n",
       "      <td>FIREBALL CINNAMON WHISKEY</td>\n",
       "      <td>616032</td>\n",
       "    </tr>\n",
       "    <tr>\n",
       "      <th>6</th>\n",
       "      <td>JOHNSON</td>\n",
       "      <td>HAWKEYE VODKA</td>\n",
       "      <td>528074</td>\n",
       "    </tr>\n",
       "    <tr>\n",
       "      <th>7</th>\n",
       "      <td>CERRO GORDO</td>\n",
       "      <td>FIREBALL CINNAMON WHISKEY</td>\n",
       "      <td>387792</td>\n",
       "    </tr>\n",
       "    <tr>\n",
       "      <th>8</th>\n",
       "      <td>STORY</td>\n",
       "      <td>BLACK VELVET</td>\n",
       "      <td>373504</td>\n",
       "    </tr>\n",
       "    <tr>\n",
       "      <th>9</th>\n",
       "      <td>DUBUQUE</td>\n",
       "      <td>BLACK VELVET</td>\n",
       "      <td>320173</td>\n",
       "    </tr>\n",
       "  </tbody>\n",
       "</table>\n",
       "</div>"
      ],
      "text/plain": [
       "          County            ItemDescription  BottlesSold\n",
       "0           POLK  FIREBALL CINNAMON WHISKEY      3806467\n",
       "1           LINN  FIREBALL CINNAMON WHISKEY      1279824\n",
       "2          SCOTT  FIREBALL CINNAMON WHISKEY      1107763\n",
       "3  POTTAWATTAMIE  FIREBALL CINNAMON WHISKEY       769494\n",
       "4     BLACK HAWK               BLACK VELVET       740887\n",
       "5       WOODBURY  FIREBALL CINNAMON WHISKEY       616032\n",
       "6        JOHNSON              HAWKEYE VODKA       528074\n",
       "7    CERRO GORDO  FIREBALL CINNAMON WHISKEY       387792\n",
       "8          STORY               BLACK VELVET       373504\n",
       "9        DUBUQUE               BLACK VELVET       320173"
      ]
     },
     "execution_count": 58,
     "metadata": {},
     "output_type": "execute_result"
    }
   ],
   "source": [
    "dados[['BottlesSold', 'County', 'ItemDescription']].groupby(['County', 'ItemDescription']).sum().reset_index().sort_values('BottlesSold', ascending = False).drop_duplicates('County').reset_index(drop = True).head(10)"
   ]
  },
  {
   "cell_type": "markdown",
   "id": "9fcffa8c-a728-4524-aa87-abc1edc91e65",
   "metadata": {},
   "source": [
    "Apesar da tabela acima ser suficiente para responder a pergunta, é possível extrair informação complementar, analisando qual o produto que mais vendeu garrafas em todo o período."
   ]
  },
  {
   "cell_type": "code",
   "execution_count": 59,
   "id": "1a5819e9-22a0-491c-a492-a44f8e07d71b",
   "metadata": {},
   "outputs": [
    {
     "data": {
      "text/html": [
       "<div>\n",
       "<style scoped>\n",
       "    .dataframe tbody tr th:only-of-type {\n",
       "        vertical-align: middle;\n",
       "    }\n",
       "\n",
       "    .dataframe tbody tr th {\n",
       "        vertical-align: top;\n",
       "    }\n",
       "\n",
       "    .dataframe thead th {\n",
       "        text-align: right;\n",
       "    }\n",
       "</style>\n",
       "<table border=\"1\" class=\"dataframe\">\n",
       "  <thead>\n",
       "    <tr style=\"text-align: right;\">\n",
       "      <th></th>\n",
       "      <th>ItemDescription</th>\n",
       "      <th>BottlesSold</th>\n",
       "    </tr>\n",
       "  </thead>\n",
       "  <tbody>\n",
       "    <tr>\n",
       "      <th>0</th>\n",
       "      <td>FIREBALL CINNAMON WHISKEY</td>\n",
       "      <td>13391403</td>\n",
       "    </tr>\n",
       "    <tr>\n",
       "      <th>1</th>\n",
       "      <td>BLACK VELVET</td>\n",
       "      <td>13022401</td>\n",
       "    </tr>\n",
       "    <tr>\n",
       "      <th>2</th>\n",
       "      <td>HAWKEYE VODKA</td>\n",
       "      <td>8910118</td>\n",
       "    </tr>\n",
       "    <tr>\n",
       "      <th>3</th>\n",
       "      <td>TITOS HANDMADE VODKA</td>\n",
       "      <td>7239065</td>\n",
       "    </tr>\n",
       "    <tr>\n",
       "      <th>4</th>\n",
       "      <td>JACK DANIELS OLD</td>\n",
       "      <td>5319462</td>\n",
       "    </tr>\n",
       "  </tbody>\n",
       "</table>\n",
       "</div>"
      ],
      "text/plain": [
       "             ItemDescription  BottlesSold\n",
       "0  FIREBALL CINNAMON WHISKEY     13391403\n",
       "1               BLACK VELVET     13022401\n",
       "2              HAWKEYE VODKA      8910118\n",
       "3       TITOS HANDMADE VODKA      7239065\n",
       "4           JACK DANIELS OLD      5319462"
      ]
     },
     "execution_count": 59,
     "metadata": {},
     "output_type": "execute_result"
    }
   ],
   "source": [
    "dados[['ItemDescription', 'BottlesSold']].groupby('ItemDescription').sum().reset_index().sort_values('BottlesSold', ascending = False).reset_index(drop = True).head(5)"
   ]
  },
  {
   "cell_type": "markdown",
   "id": "8c59201a-c7e3-4217-ae35-cba53f68c203",
   "metadata": {},
   "source": [
    "O destilado mais vendido em IOWA em todo o período, por número de garrafas vendidas, foi o FIREBALL CINNAMON WHISKEY e BLACK VELVET"
   ]
  },
  {
   "cell_type": "markdown",
   "id": "e82bc962-b185-4015-96af-6355527f6edb",
   "metadata": {
    "tags": []
   },
   "source": [
    "### **Qual a loja que mais transacionou em volume monetário? E por quantidade de vendas? E por litros?**"
   ]
  },
  {
   "cell_type": "code",
   "execution_count": 60,
   "id": "5db85bef-20ed-42b5-999a-d3fa999f5e93",
   "metadata": {},
   "outputs": [
    {
     "data": {
      "text/html": [
       "<div>\n",
       "<style scoped>\n",
       "    .dataframe tbody tr th:only-of-type {\n",
       "        vertical-align: middle;\n",
       "    }\n",
       "\n",
       "    .dataframe tbody tr th {\n",
       "        vertical-align: top;\n",
       "    }\n",
       "\n",
       "    .dataframe thead th {\n",
       "        text-align: right;\n",
       "    }\n",
       "</style>\n",
       "<table border=\"1\" class=\"dataframe\">\n",
       "  <thead>\n",
       "    <tr style=\"text-align: right;\">\n",
       "      <th></th>\n",
       "      <th>StoreNumber</th>\n",
       "      <th>StoreName</th>\n",
       "      <th>Sale(Dollars)</th>\n",
       "    </tr>\n",
       "  </thead>\n",
       "  <tbody>\n",
       "    <tr>\n",
       "      <th>0</th>\n",
       "      <td>2633</td>\n",
       "      <td>HY-VEE #3 / BDI / DES MOINES</td>\n",
       "      <td>119350984.00</td>\n",
       "    </tr>\n",
       "  </tbody>\n",
       "</table>\n",
       "</div>"
      ],
      "text/plain": [
       "  StoreNumber                     StoreName  Sale(Dollars)\n",
       "0        2633  HY-VEE #3 / BDI / DES MOINES   119350984.00"
      ]
     },
     "execution_count": 60,
     "metadata": {},
     "output_type": "execute_result"
    }
   ],
   "source": [
    "loja_volume_monetario = dados[['StoreNumber', 'Sale(Dollars)']].groupby('StoreNumber').sum('Sale(Dollars)').sort_values('Sale(Dollars)', ascending = False).reset_index().head(1)\n",
    "nome_loja_volume_monetario = dados[dados['StoreNumber'] == loja_volume_monetario['StoreNumber'][0]].drop_duplicates('StoreName')[['StoreName', 'StoreNumber']]\n",
    "loja_volume_monetario.merge(nome_loja_volume_monetario, how = 'left', on = 'StoreNumber')[['StoreNumber', 'StoreName', 'Sale(Dollars)']]"
   ]
  },
  {
   "cell_type": "code",
   "execution_count": 61,
   "id": "5a0c3137-ea97-4bf9-ae85-255a17c466dc",
   "metadata": {},
   "outputs": [
    {
     "data": {
      "text/html": [
       "<div>\n",
       "<style scoped>\n",
       "    .dataframe tbody tr th:only-of-type {\n",
       "        vertical-align: middle;\n",
       "    }\n",
       "\n",
       "    .dataframe tbody tr th {\n",
       "        vertical-align: top;\n",
       "    }\n",
       "\n",
       "    .dataframe thead th {\n",
       "        text-align: right;\n",
       "    }\n",
       "</style>\n",
       "<table border=\"1\" class=\"dataframe\">\n",
       "  <thead>\n",
       "    <tr style=\"text-align: right;\">\n",
       "      <th></th>\n",
       "      <th>StoreNumber</th>\n",
       "      <th>StoreName</th>\n",
       "      <th>BottlesSold</th>\n",
       "    </tr>\n",
       "  </thead>\n",
       "  <tbody>\n",
       "    <tr>\n",
       "      <th>0</th>\n",
       "      <td>2633</td>\n",
       "      <td>HY-VEE #3 / BDI / DES MOINES</td>\n",
       "      <td>7057304</td>\n",
       "    </tr>\n",
       "  </tbody>\n",
       "</table>\n",
       "</div>"
      ],
      "text/plain": [
       "  StoreNumber                     StoreName  BottlesSold\n",
       "0        2633  HY-VEE #3 / BDI / DES MOINES      7057304"
      ]
     },
     "execution_count": 61,
     "metadata": {},
     "output_type": "execute_result"
    }
   ],
   "source": [
    "loja_quantidade = dados[['StoreNumber', 'BottlesSold']].groupby('StoreNumber').sum('BottlesSold').sort_values('BottlesSold', ascending = False).reset_index().head(1)\n",
    "nome_loja_quantidade = dados[dados['StoreNumber'] == loja_quantidade['StoreNumber'][0]].drop_duplicates('StoreName')[['StoreName', 'StoreNumber']]\n",
    "loja_quantidade.merge(nome_loja_quantidade, how = 'left', on = 'StoreNumber')[['StoreNumber', 'StoreName', 'BottlesSold']]"
   ]
  },
  {
   "cell_type": "code",
   "execution_count": 62,
   "id": "a5a45993-5d24-4c51-aae1-282416e25daf",
   "metadata": {},
   "outputs": [
    {
     "data": {
      "text/html": [
       "<div>\n",
       "<style scoped>\n",
       "    .dataframe tbody tr th:only-of-type {\n",
       "        vertical-align: middle;\n",
       "    }\n",
       "\n",
       "    .dataframe tbody tr th {\n",
       "        vertical-align: top;\n",
       "    }\n",
       "\n",
       "    .dataframe thead th {\n",
       "        text-align: right;\n",
       "    }\n",
       "</style>\n",
       "<table border=\"1\" class=\"dataframe\">\n",
       "  <thead>\n",
       "    <tr style=\"text-align: right;\">\n",
       "      <th></th>\n",
       "      <th>StoreNumber</th>\n",
       "      <th>StoreName</th>\n",
       "      <th>VolumeSold(Liters)</th>\n",
       "    </tr>\n",
       "  </thead>\n",
       "  <tbody>\n",
       "    <tr>\n",
       "      <th>0</th>\n",
       "      <td>2633</td>\n",
       "      <td>HY-VEE #3 / BDI / DES MOINES</td>\n",
       "      <td>6783122.50</td>\n",
       "    </tr>\n",
       "  </tbody>\n",
       "</table>\n",
       "</div>"
      ],
      "text/plain": [
       "  StoreNumber                     StoreName  VolumeSold(Liters)\n",
       "0        2633  HY-VEE #3 / BDI / DES MOINES          6783122.50"
      ]
     },
     "execution_count": 62,
     "metadata": {},
     "output_type": "execute_result"
    }
   ],
   "source": [
    "loja_litros = dados[['StoreNumber', 'VolumeSold(Liters)']].groupby('StoreNumber').sum('VolumeSold(Liters)').sort_values('VolumeSold(Liters)', ascending = False).reset_index().head(1)\n",
    "nome_loja_litros = dados[dados['StoreNumber'] == loja_quantidade['StoreNumber'][0]].drop_duplicates('StoreName')[['StoreName', 'StoreNumber']]\n",
    "loja_litros.merge(nome_loja_quantidade, how = 'left', on = 'StoreNumber')[['StoreNumber', 'StoreName', 'VolumeSold(Liters)']]"
   ]
  },
  {
   "cell_type": "markdown",
   "id": "bbdb8348-371c-4d65-b7e5-26a340d0d919",
   "metadata": {},
   "source": [
    "A loja que mais realizou compras / vendas em todo o período analisado, em volume monetário, quantidade de vendas e litros foi a loja HY-VEE #3 / BDI / DES MOINES."
   ]
  },
  {
   "cell_type": "code",
   "execution_count": 63,
   "id": "7f1060a6-96af-43f6-aeac-21f55a9f1ba1",
   "metadata": {},
   "outputs": [],
   "source": [
    "del(loja_volume_monetario, nome_loja_volume_monetario,\n",
    "    loja_quantidade, nome_loja_quantidade,\n",
    "    loja_litros, nome_loja_litros)"
   ]
  },
  {
   "cell_type": "markdown",
   "id": "e4848684-de0c-4e13-ab3a-fa49c0f4972a",
   "metadata": {
    "tags": []
   },
   "source": [
    "### **Qual o produto que mais gerou receita para ABD no período? E qual o produto que possui maior margem de lucro?**"
   ]
  },
  {
   "cell_type": "code",
   "execution_count": 64,
   "id": "76779d25-5e95-436c-a732-9df7076ba3db",
   "metadata": {},
   "outputs": [
    {
     "data": {
      "text/plain": [
       "Date                  datetime64[ns]\n",
       "StoreNumber                   object\n",
       "StoreName                     object\n",
       "CategoryName                category\n",
       "VendorNumber                 float16\n",
       "VendorName                  category\n",
       "ItemNumber                    object\n",
       "ItemDescription             category\n",
       "BottleVolume(ml)               int32\n",
       "StateBottleCost              float16\n",
       "StateBottleRetail            float16\n",
       "BottlesSold                    int16\n",
       "Sale(Dollars)                float32\n",
       "VolumeSold(Liters)           float16\n",
       "City                        category\n",
       "County                      category\n",
       "dtype: object"
      ]
     },
     "execution_count": 64,
     "metadata": {},
     "output_type": "execute_result"
    }
   ],
   "source": [
    "dados.dtypes"
   ]
  },
  {
   "cell_type": "code",
   "execution_count": 65,
   "id": "c76d0f84-a936-4147-af29-325592fb21cd",
   "metadata": {},
   "outputs": [
    {
     "data": {
      "text/html": [
       "<div>\n",
       "<style scoped>\n",
       "    .dataframe tbody tr th:only-of-type {\n",
       "        vertical-align: middle;\n",
       "    }\n",
       "\n",
       "    .dataframe tbody tr th {\n",
       "        vertical-align: top;\n",
       "    }\n",
       "\n",
       "    .dataframe thead th {\n",
       "        text-align: right;\n",
       "    }\n",
       "</style>\n",
       "<table border=\"1\" class=\"dataframe\">\n",
       "  <thead>\n",
       "    <tr style=\"text-align: right;\">\n",
       "      <th></th>\n",
       "      <th>Sale(Dollars)</th>\n",
       "    </tr>\n",
       "    <tr>\n",
       "      <th>ItemDescription</th>\n",
       "      <th></th>\n",
       "    </tr>\n",
       "  </thead>\n",
       "  <tbody>\n",
       "    <tr>\n",
       "      <th>BLACK VELVET</th>\n",
       "      <td>138643214.75</td>\n",
       "    </tr>\n",
       "    <tr>\n",
       "      <th>TITOS HANDMADE VODKA</th>\n",
       "      <td>137263040.08</td>\n",
       "    </tr>\n",
       "    <tr>\n",
       "      <th>JACK DANIELS OLD</th>\n",
       "      <td>122497378.63</td>\n",
       "    </tr>\n",
       "    <tr>\n",
       "      <th>FIREBALL CINNAMON WHISKEY</th>\n",
       "      <td>87048966.42</td>\n",
       "    </tr>\n",
       "    <tr>\n",
       "      <th>CAPTAIN MORGAN SPICED RUM</th>\n",
       "      <td>73458085.03</td>\n",
       "    </tr>\n",
       "    <tr>\n",
       "      <th>CROWN ROYAL</th>\n",
       "      <td>72922881.14</td>\n",
       "    </tr>\n",
       "    <tr>\n",
       "      <th>HAWKEYE VODKA</th>\n",
       "      <td>60217812.74</td>\n",
       "    </tr>\n",
       "    <tr>\n",
       "      <th>CAPTAIN MORGAN ORIGINAL SPICED</th>\n",
       "      <td>56561919.17</td>\n",
       "    </tr>\n",
       "    <tr>\n",
       "      <th>CROWN ROYAL REGAL APPLE</th>\n",
       "      <td>55461082.99</td>\n",
       "    </tr>\n",
       "    <tr>\n",
       "      <th>JAMESON</th>\n",
       "      <td>55042519.38</td>\n",
       "    </tr>\n",
       "  </tbody>\n",
       "</table>\n",
       "</div>"
      ],
      "text/plain": [
       "                                Sale(Dollars)\n",
       "ItemDescription                              \n",
       "BLACK VELVET                     138643214.75\n",
       "TITOS HANDMADE VODKA             137263040.08\n",
       "JACK DANIELS OLD                 122497378.63\n",
       "FIREBALL CINNAMON WHISKEY         87048966.42\n",
       "CAPTAIN MORGAN SPICED RUM         73458085.03\n",
       "CROWN ROYAL                       72922881.14\n",
       "HAWKEYE VODKA                     60217812.74\n",
       "CAPTAIN MORGAN ORIGINAL SPICED    56561919.17\n",
       "CROWN ROYAL REGAL APPLE           55461082.99\n",
       "JAMESON                           55042519.38"
      ]
     },
     "execution_count": 65,
     "metadata": {},
     "output_type": "execute_result"
    }
   ],
   "source": [
    "dados[['ItemDescription', 'Sale(Dollars)']].astype({'Sale(Dollars)' : float}).groupby('ItemDescription').sum().sort_values('Sale(Dollars)', ascending = False).head(10)"
   ]
  },
  {
   "cell_type": "markdown",
   "id": "107bf63f-78f7-49b3-a36a-7bbc09c39546",
   "metadata": {},
   "source": [
    "Para determinar qual produto possui a maior margem de lucro será necessário utilizar a formula de Porcentagem do Markup, que consiste na diferença de custo entre o preço de venda e o preço de custo do produto ou mercadoria. A margem de lucro calculada será feita levando em consideração o período inteiro de análise."
   ]
  },
  {
   "cell_type": "code",
   "execution_count": 66,
   "id": "9950dd05-a32d-497f-af55-843ed3c17f59",
   "metadata": {},
   "outputs": [],
   "source": [
    "margem_lucro = dados[['ItemDescription', 'StateBottleRetail', 'StateBottleCost']].astype({'StateBottleCost' : float,\n",
    "                                                                                          'StateBottleRetail' : float}).groupby('ItemDescription').sum().reset_index()"
   ]
  },
  {
   "cell_type": "code",
   "execution_count": 67,
   "id": "e60c8c2b-a8d5-4c5e-a6c0-f5753f7d434a",
   "metadata": {},
   "outputs": [],
   "source": [
    "margem_lucro['markup'] = ((margem_lucro['StateBottleRetail'] - margem_lucro['StateBottleCost']) / margem_lucro['StateBottleCost']) * 100\n",
    "\n",
    "margem_lucro = margem_lucro.sort_values('markup', ascending = False).reset_index(drop = True)\n",
    "\n",
    "margem_lucro['markup'] = margem_lucro['markup'].apply(lambda x: \"{:.2f}%\".format((x)))"
   ]
  },
  {
   "cell_type": "code",
   "execution_count": 68,
   "id": "2ce6d12d-968e-47af-9147-38e89c93b895",
   "metadata": {},
   "outputs": [
    {
     "data": {
      "text/html": [
       "<div>\n",
       "<style scoped>\n",
       "    .dataframe tbody tr th:only-of-type {\n",
       "        vertical-align: middle;\n",
       "    }\n",
       "\n",
       "    .dataframe tbody tr th {\n",
       "        vertical-align: top;\n",
       "    }\n",
       "\n",
       "    .dataframe thead th {\n",
       "        text-align: right;\n",
       "    }\n",
       "</style>\n",
       "<table border=\"1\" class=\"dataframe\">\n",
       "  <thead>\n",
       "    <tr style=\"text-align: right;\">\n",
       "      <th></th>\n",
       "      <th>ItemDescription</th>\n",
       "      <th>StateBottleRetail</th>\n",
       "      <th>StateBottleCost</th>\n",
       "      <th>markup</th>\n",
       "    </tr>\n",
       "  </thead>\n",
       "  <tbody>\n",
       "    <tr>\n",
       "      <th>0</th>\n",
       "      <td>CONNEMARA 12 YEAR</td>\n",
       "      <td>56.25</td>\n",
       "      <td>14.66</td>\n",
       "      <td>283.80%</td>\n",
       "    </tr>\n",
       "    <tr>\n",
       "      <th>1</th>\n",
       "      <td>BIRD DOG PEACH W/2-50MLS</td>\n",
       "      <td>2031.25</td>\n",
       "      <td>940.00</td>\n",
       "      <td>116.09%</td>\n",
       "    </tr>\n",
       "    <tr>\n",
       "      <th>2</th>\n",
       "      <td>EL DORADO SPECIAL RESERVE 12YR</td>\n",
       "      <td>731.53</td>\n",
       "      <td>420.11</td>\n",
       "      <td>74.13%</td>\n",
       "    </tr>\n",
       "    <tr>\n",
       "      <th>3</th>\n",
       "      <td>OLE SMOKY APPLE PIE W/FLASK</td>\n",
       "      <td>778.59</td>\n",
       "      <td>448.91</td>\n",
       "      <td>73.44%</td>\n",
       "    </tr>\n",
       "    <tr>\n",
       "      <th>4</th>\n",
       "      <td>STRAIGHT EDGE BOURBON WHISKEY</td>\n",
       "      <td>173.00</td>\n",
       "      <td>103.38</td>\n",
       "      <td>67.35%</td>\n",
       "    </tr>\n",
       "    <tr>\n",
       "      <th>...</th>\n",
       "      <td>...</td>\n",
       "      <td>...</td>\n",
       "      <td>...</td>\n",
       "      <td>...</td>\n",
       "    </tr>\n",
       "    <tr>\n",
       "      <th>11311</th>\n",
       "      <td>BONNIE ROSE ORANGE PEEL MINI</td>\n",
       "      <td>470.31</td>\n",
       "      <td>456.33</td>\n",
       "      <td>3.06%</td>\n",
       "    </tr>\n",
       "    <tr>\n",
       "      <th>11312</th>\n",
       "      <td>RICH &amp; RARE APPLE MINI</td>\n",
       "      <td>4457.44</td>\n",
       "      <td>4452.48</td>\n",
       "      <td>0.11%</td>\n",
       "    </tr>\n",
       "    <tr>\n",
       "      <th>11313</th>\n",
       "      <td>BUSHMILLS 1608 ANNIVERSARY EDITION</td>\n",
       "      <td>50.00</td>\n",
       "      <td>50.00</td>\n",
       "      <td>0.00%</td>\n",
       "    </tr>\n",
       "    <tr>\n",
       "      <th>11314</th>\n",
       "      <td>CORAZON REPOSADO BUY THE BARREL</td>\n",
       "      <td>391.88</td>\n",
       "      <td>467.24</td>\n",
       "      <td>-16.13%</td>\n",
       "    </tr>\n",
       "    <tr>\n",
       "      <th>11315</th>\n",
       "      <td>DEKUYPER BLOOD ORANGE</td>\n",
       "      <td>11.81</td>\n",
       "      <td>14.75</td>\n",
       "      <td>-19.92%</td>\n",
       "    </tr>\n",
       "  </tbody>\n",
       "</table>\n",
       "<p>11316 rows × 4 columns</p>\n",
       "</div>"
      ],
      "text/plain": [
       "                          ItemDescription  StateBottleRetail  StateBottleCost  \\\n",
       "0                       CONNEMARA 12 YEAR              56.25            14.66   \n",
       "1                BIRD DOG PEACH W/2-50MLS            2031.25           940.00   \n",
       "2          EL DORADO SPECIAL RESERVE 12YR             731.53           420.11   \n",
       "3             OLE SMOKY APPLE PIE W/FLASK             778.59           448.91   \n",
       "4           STRAIGHT EDGE BOURBON WHISKEY             173.00           103.38   \n",
       "...                                   ...                ...              ...   \n",
       "11311        BONNIE ROSE ORANGE PEEL MINI             470.31           456.33   \n",
       "11312              RICH & RARE APPLE MINI            4457.44          4452.48   \n",
       "11313  BUSHMILLS 1608 ANNIVERSARY EDITION              50.00            50.00   \n",
       "11314     CORAZON REPOSADO BUY THE BARREL             391.88           467.24   \n",
       "11315               DEKUYPER BLOOD ORANGE              11.81            14.75   \n",
       "\n",
       "        markup  \n",
       "0      283.80%  \n",
       "1      116.09%  \n",
       "2       74.13%  \n",
       "3       73.44%  \n",
       "4       67.35%  \n",
       "...        ...  \n",
       "11311    3.06%  \n",
       "11312    0.11%  \n",
       "11313    0.00%  \n",
       "11314  -16.13%  \n",
       "11315  -19.92%  \n",
       "\n",
       "[11316 rows x 4 columns]"
      ]
     },
     "execution_count": 68,
     "metadata": {},
     "output_type": "execute_result"
    }
   ],
   "source": [
    "margem_lucro"
   ]
  },
  {
   "cell_type": "markdown",
   "id": "bfe7886f-875c-4925-91f5-7e57928a89c3",
   "metadata": {},
   "source": [
    "O produto que gerou a maior receita para a ABD no período foi o Whisky Canadense Black Velvet.\n",
    "\n",
    "O produto com maior margem de lucro no período analisado é o Whisky Connemara 12 year, com 283% de lucro no período."
   ]
  },
  {
   "cell_type": "markdown",
   "id": "64987643-420c-4759-99cc-fddff7e0b0a2",
   "metadata": {
    "tags": []
   },
   "source": [
    "### **Parece haver sazionalidade na venda de bebidas? Algum mês do ano, no decorrer dos anos, possui mais destaque no volume vendido?**"
   ]
  },
  {
   "cell_type": "code",
   "execution_count": 69,
   "id": "6f553138-26c3-462e-8e41-8ca17d58db11",
   "metadata": {},
   "outputs": [],
   "source": [
    "data_garrafas_vendidas = dados[['Date', 'BottlesSold']].astype({'BottlesSold' : 'int'}).copy()\n",
    "data_garrafas_vendidas['Date']  = data_garrafas_vendidas.Date - pd.offsets.MonthBegin(1)\n",
    "data_garrafas_vendidas = data_garrafas_vendidas.groupby('Date').sum().reset_index()"
   ]
  },
  {
   "cell_type": "code",
   "execution_count": 70,
   "id": "41224538-3dad-4d3c-b2e1-241196723cc3",
   "metadata": {},
   "outputs": [
    {
     "data": {
      "text/plain": [
       "Date           datetime64[ns]\n",
       "BottlesSold             int64\n",
       "dtype: object"
      ]
     },
     "execution_count": 70,
     "metadata": {},
     "output_type": "execute_result"
    }
   ],
   "source": [
    "data_garrafas_vendidas.dtypes"
   ]
  },
  {
   "cell_type": "code",
   "execution_count": 71,
   "id": "a48208f9-a45d-4214-8c42-b80444b59e23",
   "metadata": {},
   "outputs": [
    {
     "data": {
      "text/plain": [
       "datetime.date(2012, 1, 1)"
      ]
     },
     "execution_count": 71,
     "metadata": {},
     "output_type": "execute_result"
    }
   ],
   "source": [
    "data_garrafas_vendidas['Date'].min().date()"
   ]
  },
  {
   "cell_type": "code",
   "execution_count": 72,
   "id": "297af076-f898-4e4f-be41-d23ddd4858e8",
   "metadata": {},
   "outputs": [
    {
     "data": {
      "image/png": "[encoded data removed]",
      "text/plain": [
       "<Figure size 2400x600 with 1 Axes>"
      ]
     },
     "metadata": {},
     "output_type": "display_data"
    }
   ],
   "source": [
    "plt.plot(data_garrafas_vendidas['Date'], data_garrafas_vendidas['BottlesSold'])\n",
    "\n",
    "ax = plt.gca()\n",
    "\n",
    "ax.set_xlim([data_garrafas_vendidas['Date'].min().date(),\n",
    "             data_garrafas_vendidas['Date'].max().date()])\n",
    "\n",
    "xax = ax.get_xaxis()\n",
    "xax.set_major_locator(matplotlib.dates.YearLocator())\n",
    "xax.set_major_formatter(matplotlib.dates.DateFormatter(\"\\n%Y\"))\n",
    "\n",
    "xax.set_minor_locator(matplotlib.dates.MonthLocator())\n",
    "xax.set_minor_formatter(matplotlib.dates.DateFormatter(\"%b\"))\n",
    "\n",
    "xax.set_tick_params(which = 'major', pad = 15)\n",
    "\n",
    "plt.setp(ax.xaxis.get_minorticklabels(), rotation = 90)\n",
    "plt.setp(ax.get_xticklabels(), rotation = 0, ha = \"center\")\n",
    "\n",
    "fig = matplotlib.pyplot.gcf()\n",
    "fig.set_size_inches(24, 6)\n",
    "\n",
    "plt.title(\"Total de Garrafas de Destilados Vendidas x Tempo\")\n",
    "\n",
    "plt.show()"
   ]
  },
  {
   "cell_type": "markdown",
   "id": "687a282a-d735-4edd-9b08-eb39673af05c",
   "metadata": {},
   "source": [
    "Pelo gráfico, é visivel o aumento no volume de garrafas vendidas de destilados no decorrer do ano, ao longo dos anos. Em um primeiro momento, é possível inferir que as vendas de bebidas no estado de Iowa, aumentam no decorrer do ano, com algumas oscilações, tendo seu pico entre os meses de Outubro e Dezembro. Essa época, coincide com o período de maiores festividades no país (Halloween, Ação de Graças, Natal e Ano Novo). O período de Abril à Junho, período da Primavera e inicio do Verão, também ocorre um volume considerável de vendas. O pico histórico de vendas, até o momento ocorreu em Agosto em 2022."
   ]
  },
  {
   "cell_type": "code",
   "execution_count": 73,
   "id": "335bf44e-12f2-4e46-9dd5-0d048a999756",
   "metadata": {},
   "outputs": [],
   "source": [
    "del(data_garrafas_vendidas)"
   ]
  },
  {
   "cell_type": "markdown",
   "id": "b90cda9b-84d1-4a4f-8c18-809619d8ba0b",
   "metadata": {
    "tags": []
   },
   "source": [
    "### **Qual foi o total vendido por ano?**"
   ]
  },
  {
   "cell_type": "code",
   "execution_count": 74,
   "id": "5675895a-8960-458e-b559-9a930b92b3fe",
   "metadata": {},
   "outputs": [],
   "source": [
    "total_ano = dados[['Date', 'BottlesSold', 'VolumeSold(Liters)', 'Sale(Dollars)']].copy()"
   ]
  },
  {
   "cell_type": "code",
   "execution_count": 75,
   "id": "2a70cc91-0172-4699-a1e9-a81e4adb6ee4",
   "metadata": {},
   "outputs": [],
   "source": [
    "total_ano['Ano'] = total_ano['Date'].dt.year\n",
    "total_ano.drop('Date', axis = 1, inplace = True)\n",
    "total_ano = total_ano.astype({'BottlesSold' : 'int',\n",
    "                              'Sale(Dollars)' : 'float',\n",
    "                              'VolumeSold(Liters)' : 'float'})"
   ]
  },
  {
   "cell_type": "code",
   "execution_count": 76,
   "id": "7fa77ede-2ec7-4da2-82c0-d516914eae22",
   "metadata": {},
   "outputs": [],
   "source": [
    "total_ano = total_ano.groupby(['Ano']).sum().reset_index()"
   ]
  },
  {
   "cell_type": "code",
   "execution_count": 77,
   "id": "6354acde-8340-41c8-9263-d96900daf02e",
   "metadata": {
    "tags": []
   },
   "outputs": [
    {
     "data": {
      "image/png": "[encoded data removed]",
      "text/plain": [
       "<Figure size 1600x800 with 1 Axes>"
      ]
     },
     "metadata": {},
     "output_type": "display_data"
    }
   ],
   "source": [
    "fig, ax = plt.subplots()\n",
    "\n",
    "height = total_ano['Sale(Dollars)'] / 1000\n",
    "\n",
    "bars = plt.bar(x = total_ano['Ano'], height = height, color = '#b8f2f0')\n",
    "\n",
    "xlocs, xlabs = plt.xticks()\n",
    "\n",
    "xlocs = [i for i in total_ano['Ano']]\n",
    "xlabs = [i for i in total_ano['Ano']]\n",
    "\n",
    "plt.xticks(xlocs, xlabs)\n",
    "plt.yticks(fontsize = 'small')\n",
    "\n",
    "ax.yaxis.set_major_formatter('${x:1.1f}K')\n",
    "\n",
    "ax.yaxis.set_tick_params(which = 'major',\n",
    "                         labelleft = True)\n",
    "\n",
    "fig.set_size_inches(16, 8)\n",
    "\n",
    "plt.title(\"Volume vendido ($) por Ano\");\n",
    "\n",
    "for bar in bars:\n",
    "    yval = bar.get_height()\n",
    "    plt.text(bar.get_x(), yval + 3000,  \n",
    "             r'${0:.2f}K'.format(yval), rotation = 0,\n",
    "             fontsize = 'small')\n",
    "\n",
    "plt.show()"
   ]
  },
  {
   "cell_type": "code",
   "execution_count": 78,
   "id": "35c33685-e754-46f4-a565-5f2c97cd5d25",
   "metadata": {
    "tags": []
   },
   "outputs": [],
   "source": [
    "colunas = ['BottlesSold', 'VolumeSold(Liters)', 'Sale(Dollars)']\n",
    "\n",
    "for i in colunas:\n",
    "    if i == 'Sale(Dollars)':\n",
    "        total_ano[i] = total_ano[i].apply(lambda x: \"${:.1f}K\".format((x/1000)))\n",
    "    else:\n",
    "        total_ano[i] = total_ano[i].apply(lambda x: \"{:.1f}K\".format((x/1000)))"
   ]
  },
  {
   "cell_type": "code",
   "execution_count": 79,
   "id": "93aaf8d9-631a-487a-8260-f68a9f33b4fe",
   "metadata": {},
   "outputs": [
    {
     "data": {
      "text/html": [
       "<div>\n",
       "<style scoped>\n",
       "    .dataframe tbody tr th:only-of-type {\n",
       "        vertical-align: middle;\n",
       "    }\n",
       "\n",
       "    .dataframe tbody tr th {\n",
       "        vertical-align: top;\n",
       "    }\n",
       "\n",
       "    .dataframe thead th {\n",
       "        text-align: right;\n",
       "    }\n",
       "</style>\n",
       "<table border=\"1\" class=\"dataframe\">\n",
       "  <thead>\n",
       "    <tr style=\"text-align: right;\">\n",
       "      <th></th>\n",
       "      <th>Ano</th>\n",
       "      <th>BottlesSold</th>\n",
       "      <th>VolumeSold(Liters)</th>\n",
       "      <th>Sale(Dollars)</th>\n",
       "    </tr>\n",
       "  </thead>\n",
       "  <tbody>\n",
       "    <tr>\n",
       "      <th>0</th>\n",
       "      <td>2012</td>\n",
       "      <td>19917.4K</td>\n",
       "      <td>18755.3K</td>\n",
       "      <td>$255203.3K</td>\n",
       "    </tr>\n",
       "    <tr>\n",
       "      <th>1</th>\n",
       "      <td>2013</td>\n",
       "      <td>19934.7K</td>\n",
       "      <td>18576.5K</td>\n",
       "      <td>$258103.4K</td>\n",
       "    </tr>\n",
       "    <tr>\n",
       "      <th>2</th>\n",
       "      <td>2014</td>\n",
       "      <td>20666.0K</td>\n",
       "      <td>19157.7K</td>\n",
       "      <td>$270583.4K</td>\n",
       "    </tr>\n",
       "    <tr>\n",
       "      <th>3</th>\n",
       "      <td>2015</td>\n",
       "      <td>21572.4K</td>\n",
       "      <td>19617.7K</td>\n",
       "      <td>$284328.4K</td>\n",
       "    </tr>\n",
       "    <tr>\n",
       "      <th>4</th>\n",
       "      <td>2016</td>\n",
       "      <td>22670.3K</td>\n",
       "      <td>20300.3K</td>\n",
       "      <td>$299447.6K</td>\n",
       "    </tr>\n",
       "    <tr>\n",
       "      <th>5</th>\n",
       "      <td>2017</td>\n",
       "      <td>23990.0K</td>\n",
       "      <td>21096.9K</td>\n",
       "      <td>$314530.0K</td>\n",
       "    </tr>\n",
       "    <tr>\n",
       "      <th>6</th>\n",
       "      <td>2018</td>\n",
       "      <td>25435.0K</td>\n",
       "      <td>21896.0K</td>\n",
       "      <td>$334216.8K</td>\n",
       "    </tr>\n",
       "    <tr>\n",
       "      <th>7</th>\n",
       "      <td>2019</td>\n",
       "      <td>26844.3K</td>\n",
       "      <td>22301.5K</td>\n",
       "      <td>$349220.3K</td>\n",
       "    </tr>\n",
       "    <tr>\n",
       "      <th>8</th>\n",
       "      <td>2020</td>\n",
       "      <td>29841.3K</td>\n",
       "      <td>24211.7K</td>\n",
       "      <td>$396663.1K</td>\n",
       "    </tr>\n",
       "    <tr>\n",
       "      <th>9</th>\n",
       "      <td>2021</td>\n",
       "      <td>31203.5K</td>\n",
       "      <td>24755.4K</td>\n",
       "      <td>$428123.5K</td>\n",
       "    </tr>\n",
       "    <tr>\n",
       "      <th>10</th>\n",
       "      <td>2022</td>\n",
       "      <td>30455.5K</td>\n",
       "      <td>23583.3K</td>\n",
       "      <td>$429150.0K</td>\n",
       "    </tr>\n",
       "    <tr>\n",
       "      <th>11</th>\n",
       "      <td>2023</td>\n",
       "      <td>9682.5K</td>\n",
       "      <td>7334.1K</td>\n",
       "      <td>$134187.1K</td>\n",
       "    </tr>\n",
       "  </tbody>\n",
       "</table>\n",
       "</div>"
      ],
      "text/plain": [
       "     Ano BottlesSold VolumeSold(Liters) Sale(Dollars)\n",
       "0   2012    19917.4K           18755.3K    $255203.3K\n",
       "1   2013    19934.7K           18576.5K    $258103.4K\n",
       "2   2014    20666.0K           19157.7K    $270583.4K\n",
       "3   2015    21572.4K           19617.7K    $284328.4K\n",
       "4   2016    22670.3K           20300.3K    $299447.6K\n",
       "5   2017    23990.0K           21096.9K    $314530.0K\n",
       "6   2018    25435.0K           21896.0K    $334216.8K\n",
       "7   2019    26844.3K           22301.5K    $349220.3K\n",
       "8   2020    29841.3K           24211.7K    $396663.1K\n",
       "9   2021    31203.5K           24755.4K    $428123.5K\n",
       "10  2022    30455.5K           23583.3K    $429150.0K\n",
       "11  2023     9682.5K            7334.1K    $134187.1K"
      ]
     },
     "execution_count": 79,
     "metadata": {},
     "output_type": "execute_result"
    }
   ],
   "source": [
    "total_ano"
   ]
  },
  {
   "cell_type": "code",
   "execution_count": 80,
   "id": "469a7040-30ab-4193-bdd1-88a5d7d42dbf",
   "metadata": {},
   "outputs": [],
   "source": [
    "del(total_ano)"
   ]
  },
  {
   "cell_type": "markdown",
   "id": "6d722093-9fbd-4ef9-b928-e3b646fe5982",
   "metadata": {
    "tags": []
   },
   "source": [
    "### **Qual é o lucro por ano?**"
   ]
  },
  {
   "cell_type": "code",
   "execution_count": 81,
   "id": "8c1fde71-3c35-4657-ad47-3d631beaf648",
   "metadata": {},
   "outputs": [],
   "source": [
    "lucro_ano = dados[['Date', 'BottlesSold', 'StateBottleCost', 'Sale(Dollars)']].copy()\n",
    "\n",
    "lucro_ano['Ano'] = lucro_ano['Date'].dt.year\n",
    "lucro_ano.drop('Date', axis = 1, inplace = True)\n",
    "lucro_ano = lucro_ano.astype({'BottlesSold' : 'int',\n",
    "                              'Sale(Dollars)' : 'float',\n",
    "                              'StateBottleCost' : 'float'})\n",
    "lucro_ano['custo_ABD'] = lucro_ano['StateBottleCost'] * lucro_ano['BottlesSold']\n",
    "lucro_ano.drop(['BottlesSold', 'StateBottleCost'], axis = 1, inplace = True)"
   ]
  },
  {
   "cell_type": "code",
   "execution_count": 82,
   "id": "f0ee2595-6db3-4271-9223-1d95805fa0db",
   "metadata": {},
   "outputs": [],
   "source": [
    "lucro_ano = lucro_ano.groupby('Ano').sum().reset_index()\n",
    "lucro_ano['lucro_ABD'] = lucro_ano['Sale(Dollars)'] - lucro_ano['custo_ABD']"
   ]
  },
  {
   "cell_type": "code",
   "execution_count": 83,
   "id": "6ac02896-acb6-4b07-89c1-4dca154c07a8",
   "metadata": {},
   "outputs": [
    {
     "data": {
      "image/png": "[encoded data removed]",
      "text/plain": [
       "<Figure size 1600x800 with 1 Axes>"
      ]
     },
     "metadata": {},
     "output_type": "display_data"
    }
   ],
   "source": [
    "fig, ax = plt.subplots()\n",
    "\n",
    "height = lucro_ano['lucro_ABD'] / 1000\n",
    "\n",
    "bars = plt.bar(x = lucro_ano['Ano'], height = height, color = '#b8f2f0')\n",
    "\n",
    "xlocs, xlabs = plt.xticks()\n",
    "\n",
    "xlocs = [i for i in lucro_ano['Ano']]\n",
    "xlabs = [i for i in lucro_ano['Ano']]\n",
    "\n",
    "plt.xticks(xlocs, xlabs)\n",
    "plt.yticks(fontsize = 'small')\n",
    "\n",
    "ax.yaxis.set_major_formatter('${x:1.1f}K')\n",
    "\n",
    "ax.yaxis.set_tick_params(which = 'major',\n",
    "                         labelleft = True)\n",
    "\n",
    "plt.title(\"Lucro Total ($) por Ano\");\n",
    "\n",
    "for bar in bars:\n",
    "    yval = bar.get_height()\n",
    "    plt.text(bar.get_x(), yval + 3000,  \n",
    "             r'${0:.2f}K'.format(yval), rotation = 0,\n",
    "             fontsize = 'small')\n",
    "\n",
    "fig.set_size_inches(16, 8)\n",
    "\n",
    "plt.show()"
   ]
  },
  {
   "cell_type": "markdown",
   "id": "ff42c9dd-c008-4212-9f62-c100b8aefb18",
   "metadata": {
    "tags": []
   },
   "source": [
    "### **Qual foi a evolução do comportamento de consumo?** "
   ]
  },
  {
   "cell_type": "markdown",
   "id": "df5d0109-154b-43cf-af83-09b837b99b29",
   "metadata": {},
   "source": [
    "Considerando as respostas dos itens anteriores, e de que a o volume de compras feitas pelos estabelecimentos, em atacado, depende da demanda por esse tipo de produto no mercado. É fácil perceber uma evolução no consumo de álcool dentro do Estado, apresentando um crescimento, de cerca de 60% entre 2012 e 2023 (429150.0K / 255203.3K). \n",
    "Um ponto a se atentar é de que o maior crescimento no mercado de destilados no estado foi dado no mesmo ano em que a OMS declarou a COVID-19 como uma pandemia e orientou o isolamento. Ponto que é reforçado por estudos feitos pelo [NIAAA (National Institute on Alcohol Abuse and Alcoholism)](https://www.niaaa.nih.gov/news-events/research-update/deaths-involving-alcohol-increased-during-covid-19-pandemic), que identificou um aumento de mortes relacionadas a consumo de alcool nos Estados Unidos durante a pandemia."
   ]
  },
  {
   "cell_type": "markdown",
   "id": "91bff296-f52c-4843-9718-338c4d103544",
   "metadata": {
    "tags": []
   },
   "source": [
    "## **Conclusão**"
   ]
  },
  {
   "cell_type": "markdown",
   "id": "a2f05057-f63c-4366-a1eb-360ce0e6aa59",
   "metadata": {},
   "source": [
    "É vísivel o aumento no consumo de alcool dentro do estado de Iowa, podendo se tornarem problemas sociais e de saúde graves. Distribuidoras como Diegeo Americas e Sazerac Company Inc se favoreceram muito, em volume vendido, do aumento de consumo de bebida no estado, uma vez que a primeira se apresenta como a distribuidora que mais vendeu em todo período analisado, e a segunda a distribuidora que mais vendeu em 9 meses dos últimos 10 meses.\n",
    "\n",
    "Vodkas americanas e Whiskies canadenses foram as categorias de bebidas mais procuradas, possuindo um enorme destaque das demais, sendo consideradas bebidas de alto teor alcólico. Por exemplo o Whisky Fireball Cinnamon e Whisky Black Velvet, que são marcas canadenses e foram os mais vendidos em todo período e também as categorias mais vendidas nos condados que mais venderam.\n",
    "\n",
    "A cidade de Des Moines se apresenta como a cidade que possui a maior loja de vendas de bebidas do estado, e ao mesmo tempo, a cidade que mais possui lojas de bebida. Considerando o cenário em que a oferta acompanha a demanda por produtos, é razoável considerar que essa seja a cidade com maior consumo de alcool no estado.\n",
    "\n",
    "Um fato identificado, que estrapola os limites da atividade de exploração executada com os dados aqui presentes, é o fato de parecer haver alguma relação entre momentos de crise ou estresse com o consumo de alcool, uma vez que o aumento no consumo de bebidas foi considerável no inicio da pandemia de COVID-19. Tendo em vista o estudo feito pela NIAAA e o propósito da ABD, é necessário atenção por parte da divisão, pois o comportamento de crescimento no consumo e mortes por consumo de alcool, pode apresentar relação na baixa efetividade de investimentos correlatos ao consumo."
   ]
  }
 ],
 "metadata": {
  "kernelspec": {
   "display_name": "Python 3 (ipykernel)",
   "language": "python",
   "name": "python3"
  },
  "language_info": {
   "codemirror_mode": {
    "name": "ipython",
    "version": 3
   },
   "file_extension": ".py",
   "mimetype": "text/x-python",
   "name": "python",
   "nbconvert_exporter": "python",
   "pygments_lexer": "ipython3",
   "version": "3.11.3"
  }
 },
 "nbformat": 4,
 "nbformat_minor": 5
}
